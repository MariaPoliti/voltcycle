{
 "cells": [
  {
   "cell_type": "code",
   "execution_count": 1,
   "metadata": {},
   "outputs": [],
   "source": [
    "# Import packages\n",
    "import pandas as pd\n",
    "import numpy as np\n",
    "import csv\n",
    "import matplotlib.pyplot as plt\n",
    "import os\n",
    "import warnings\n",
    "import glob"
   ]
  },
  {
   "cell_type": "code",
   "execution_count": 2,
   "metadata": {},
   "outputs": [],
   "source": [
    "# Check for all the modules that required if not exist then exit with notification.\n",
    "import sys\n",
    "import imp\n",
    "try:\n",
    "    imp.find_module('numpy')\n",
    "    foundnp = True\n",
    "except ImportError:\n",
    "    foundnp = False\n",
    "try:\n",
    "    imp.find_module('matplotlib')\n",
    "    foundplot = True\n",
    "except ImportError:\n",
    "    foundplot = False\n",
    "try:\n",
    "    imp.find_module('pandas')\n",
    "    foundpd = True\n",
    "except ImportError:\n",
    "    foundplot = False\n",
    "if not foundnp:\n",
    "    print(\"Numpy is required. Exiting\")\n",
    "    sys.exit()\n",
    "if not foundplot:\n",
    "    print(\"Matplotlib is required. Exiting\")\n",
    "    sys.exit()\n",
    "if not foundpd:\n",
    "    print(\"Pandas is required. Exiting\")\n",
    "    sys.exit()"
   ]
  },
  {
   "cell_type": "code",
   "execution_count": 3,
   "metadata": {},
   "outputs": [],
   "source": [
    "# This part use classification. All the following code blocks with correct indentation should be able to use the same style. \n",
    "# part of _init_\n",
    "class cv:\n",
    "    _colors = {'red': 'r', 'green': 'g', 'blue': 'b', 'yellow': 'y', 'cyan': 'c', 'magenta': 'm', 'black': 'k', 'white': 'w'}\n",
    "    _linestyles = {' ': ' ', '-': 'solid', '--': 'dashed', '-.': 'dash_dot', ':': 'dotted'}\n",
    "    _markers  = {' ': ' ', '.': '.', '_' : '_', 'o': 'o', '*': '*', '+': '+', 'x': 'x', 'square': 's', 'triangle': '^', 'diamond': 'd'}\n"
   ]
  },
  {
   "cell_type": "code",
   "execution_count": 4,
   "metadata": {},
   "outputs": [
    {
     "name": "stdout",
     "output_type": "stream",
     "text": [
      "Plotting the following:\n",
      "[]\n"
     ]
    }
   ],
   "source": [
    "# Find relevant files in folder\n",
    "path = os.getcwd()\n",
    "extension = ['csv','txt','dat'] # Should include all the possible ones\n",
    "os.chdir(path)\n",
    "result = [i for i in glob.glob('*.{}'.format(extension))]\n",
    "print(\"Plotting the following:\")\n",
    "print(result)\n",
    "#Make x-axis\n",
    "t = np.linspace(325, 1100, 776)"
   ]
  },
  {
   "cell_type": "code",
   "execution_count": 8,
   "metadata": {},
   "outputs": [
    {
     "ename": "FileNotFoundError",
     "evalue": "File b'../PadraoK3_Gaiola_cell3eletrodos.txt' does not exist",
     "output_type": "error",
     "traceback": [
      "\u001b[1;31m---------------------------------------------------------------------------\u001b[0m",
      "\u001b[1;31mFileNotFoundError\u001b[0m                         Traceback (most recent call last)",
      "\u001b[1;32m<ipython-input-8-845925313786>\u001b[0m in \u001b[0;36m<module>\u001b[1;34m\u001b[0m\n\u001b[1;32m----> 1\u001b[1;33m \u001b[0mdf\u001b[0m\u001b[1;33m=\u001b[0m\u001b[0mpd\u001b[0m\u001b[1;33m.\u001b[0m\u001b[0mread_csv\u001b[0m\u001b[1;33m(\u001b[0m\u001b[1;34m'../PadraoK3_Gaiola_cell3eletrodos.txt'\u001b[0m\u001b[1;33m,\u001b[0m \u001b[0msep\u001b[0m\u001b[1;33m=\u001b[0m\u001b[1;34m'\\t'\u001b[0m\u001b[1;33m)\u001b[0m\u001b[1;33m\u001b[0m\u001b[0m\n\u001b[0m\u001b[0;32m      2\u001b[0m \u001b[0mdf\u001b[0m\u001b[1;33m.\u001b[0m\u001b[0mhead\u001b[0m\u001b[1;33m(\u001b[0m\u001b[1;33m)\u001b[0m\u001b[1;33m\u001b[0m\u001b[0m\n",
      "\u001b[1;32m~\\Miniconda3\\lib\\site-packages\\pandas\\io\\parsers.py\u001b[0m in \u001b[0;36mparser_f\u001b[1;34m(filepath_or_buffer, sep, delimiter, header, names, index_col, usecols, squeeze, prefix, mangle_dupe_cols, dtype, engine, converters, true_values, false_values, skipinitialspace, skiprows, nrows, na_values, keep_default_na, na_filter, verbose, skip_blank_lines, parse_dates, infer_datetime_format, keep_date_col, date_parser, dayfirst, iterator, chunksize, compression, thousands, decimal, lineterminator, quotechar, quoting, escapechar, comment, encoding, dialect, tupleize_cols, error_bad_lines, warn_bad_lines, skipfooter, doublequote, delim_whitespace, low_memory, memory_map, float_precision)\u001b[0m\n\u001b[0;32m    676\u001b[0m                     skip_blank_lines=skip_blank_lines)\n\u001b[0;32m    677\u001b[0m \u001b[1;33m\u001b[0m\u001b[0m\n\u001b[1;32m--> 678\u001b[1;33m         \u001b[1;32mreturn\u001b[0m \u001b[0m_read\u001b[0m\u001b[1;33m(\u001b[0m\u001b[0mfilepath_or_buffer\u001b[0m\u001b[1;33m,\u001b[0m \u001b[0mkwds\u001b[0m\u001b[1;33m)\u001b[0m\u001b[1;33m\u001b[0m\u001b[0m\n\u001b[0m\u001b[0;32m    679\u001b[0m \u001b[1;33m\u001b[0m\u001b[0m\n\u001b[0;32m    680\u001b[0m     \u001b[0mparser_f\u001b[0m\u001b[1;33m.\u001b[0m\u001b[0m__name__\u001b[0m \u001b[1;33m=\u001b[0m \u001b[0mname\u001b[0m\u001b[1;33m\u001b[0m\u001b[0m\n",
      "\u001b[1;32m~\\Miniconda3\\lib\\site-packages\\pandas\\io\\parsers.py\u001b[0m in \u001b[0;36m_read\u001b[1;34m(filepath_or_buffer, kwds)\u001b[0m\n\u001b[0;32m    438\u001b[0m \u001b[1;33m\u001b[0m\u001b[0m\n\u001b[0;32m    439\u001b[0m     \u001b[1;31m# Create the parser.\u001b[0m\u001b[1;33m\u001b[0m\u001b[1;33m\u001b[0m\u001b[0m\n\u001b[1;32m--> 440\u001b[1;33m     \u001b[0mparser\u001b[0m \u001b[1;33m=\u001b[0m \u001b[0mTextFileReader\u001b[0m\u001b[1;33m(\u001b[0m\u001b[0mfilepath_or_buffer\u001b[0m\u001b[1;33m,\u001b[0m \u001b[1;33m**\u001b[0m\u001b[0mkwds\u001b[0m\u001b[1;33m)\u001b[0m\u001b[1;33m\u001b[0m\u001b[0m\n\u001b[0m\u001b[0;32m    441\u001b[0m \u001b[1;33m\u001b[0m\u001b[0m\n\u001b[0;32m    442\u001b[0m     \u001b[1;32mif\u001b[0m \u001b[0mchunksize\u001b[0m \u001b[1;32mor\u001b[0m \u001b[0miterator\u001b[0m\u001b[1;33m:\u001b[0m\u001b[1;33m\u001b[0m\u001b[0m\n",
      "\u001b[1;32m~\\Miniconda3\\lib\\site-packages\\pandas\\io\\parsers.py\u001b[0m in \u001b[0;36m__init__\u001b[1;34m(self, f, engine, **kwds)\u001b[0m\n\u001b[0;32m    785\u001b[0m             \u001b[0mself\u001b[0m\u001b[1;33m.\u001b[0m\u001b[0moptions\u001b[0m\u001b[1;33m[\u001b[0m\u001b[1;34m'has_index_names'\u001b[0m\u001b[1;33m]\u001b[0m \u001b[1;33m=\u001b[0m \u001b[0mkwds\u001b[0m\u001b[1;33m[\u001b[0m\u001b[1;34m'has_index_names'\u001b[0m\u001b[1;33m]\u001b[0m\u001b[1;33m\u001b[0m\u001b[0m\n\u001b[0;32m    786\u001b[0m \u001b[1;33m\u001b[0m\u001b[0m\n\u001b[1;32m--> 787\u001b[1;33m         \u001b[0mself\u001b[0m\u001b[1;33m.\u001b[0m\u001b[0m_make_engine\u001b[0m\u001b[1;33m(\u001b[0m\u001b[0mself\u001b[0m\u001b[1;33m.\u001b[0m\u001b[0mengine\u001b[0m\u001b[1;33m)\u001b[0m\u001b[1;33m\u001b[0m\u001b[0m\n\u001b[0m\u001b[0;32m    788\u001b[0m \u001b[1;33m\u001b[0m\u001b[0m\n\u001b[0;32m    789\u001b[0m     \u001b[1;32mdef\u001b[0m \u001b[0mclose\u001b[0m\u001b[1;33m(\u001b[0m\u001b[0mself\u001b[0m\u001b[1;33m)\u001b[0m\u001b[1;33m:\u001b[0m\u001b[1;33m\u001b[0m\u001b[0m\n",
      "\u001b[1;32m~\\Miniconda3\\lib\\site-packages\\pandas\\io\\parsers.py\u001b[0m in \u001b[0;36m_make_engine\u001b[1;34m(self, engine)\u001b[0m\n\u001b[0;32m   1012\u001b[0m     \u001b[1;32mdef\u001b[0m \u001b[0m_make_engine\u001b[0m\u001b[1;33m(\u001b[0m\u001b[0mself\u001b[0m\u001b[1;33m,\u001b[0m \u001b[0mengine\u001b[0m\u001b[1;33m=\u001b[0m\u001b[1;34m'c'\u001b[0m\u001b[1;33m)\u001b[0m\u001b[1;33m:\u001b[0m\u001b[1;33m\u001b[0m\u001b[0m\n\u001b[0;32m   1013\u001b[0m         \u001b[1;32mif\u001b[0m \u001b[0mengine\u001b[0m \u001b[1;33m==\u001b[0m \u001b[1;34m'c'\u001b[0m\u001b[1;33m:\u001b[0m\u001b[1;33m\u001b[0m\u001b[0m\n\u001b[1;32m-> 1014\u001b[1;33m             \u001b[0mself\u001b[0m\u001b[1;33m.\u001b[0m\u001b[0m_engine\u001b[0m \u001b[1;33m=\u001b[0m \u001b[0mCParserWrapper\u001b[0m\u001b[1;33m(\u001b[0m\u001b[0mself\u001b[0m\u001b[1;33m.\u001b[0m\u001b[0mf\u001b[0m\u001b[1;33m,\u001b[0m \u001b[1;33m**\u001b[0m\u001b[0mself\u001b[0m\u001b[1;33m.\u001b[0m\u001b[0moptions\u001b[0m\u001b[1;33m)\u001b[0m\u001b[1;33m\u001b[0m\u001b[0m\n\u001b[0m\u001b[0;32m   1015\u001b[0m         \u001b[1;32melse\u001b[0m\u001b[1;33m:\u001b[0m\u001b[1;33m\u001b[0m\u001b[0m\n\u001b[0;32m   1016\u001b[0m             \u001b[1;32mif\u001b[0m \u001b[0mengine\u001b[0m \u001b[1;33m==\u001b[0m \u001b[1;34m'python'\u001b[0m\u001b[1;33m:\u001b[0m\u001b[1;33m\u001b[0m\u001b[0m\n",
      "\u001b[1;32m~\\Miniconda3\\lib\\site-packages\\pandas\\io\\parsers.py\u001b[0m in \u001b[0;36m__init__\u001b[1;34m(self, src, **kwds)\u001b[0m\n\u001b[0;32m   1706\u001b[0m         \u001b[0mkwds\u001b[0m\u001b[1;33m[\u001b[0m\u001b[1;34m'usecols'\u001b[0m\u001b[1;33m]\u001b[0m \u001b[1;33m=\u001b[0m \u001b[0mself\u001b[0m\u001b[1;33m.\u001b[0m\u001b[0musecols\u001b[0m\u001b[1;33m\u001b[0m\u001b[0m\n\u001b[0;32m   1707\u001b[0m \u001b[1;33m\u001b[0m\u001b[0m\n\u001b[1;32m-> 1708\u001b[1;33m         \u001b[0mself\u001b[0m\u001b[1;33m.\u001b[0m\u001b[0m_reader\u001b[0m \u001b[1;33m=\u001b[0m \u001b[0mparsers\u001b[0m\u001b[1;33m.\u001b[0m\u001b[0mTextReader\u001b[0m\u001b[1;33m(\u001b[0m\u001b[0msrc\u001b[0m\u001b[1;33m,\u001b[0m \u001b[1;33m**\u001b[0m\u001b[0mkwds\u001b[0m\u001b[1;33m)\u001b[0m\u001b[1;33m\u001b[0m\u001b[0m\n\u001b[0m\u001b[0;32m   1709\u001b[0m \u001b[1;33m\u001b[0m\u001b[0m\n\u001b[0;32m   1710\u001b[0m         \u001b[0mpassed_names\u001b[0m \u001b[1;33m=\u001b[0m \u001b[0mself\u001b[0m\u001b[1;33m.\u001b[0m\u001b[0mnames\u001b[0m \u001b[1;32mis\u001b[0m \u001b[1;32mNone\u001b[0m\u001b[1;33m\u001b[0m\u001b[0m\n",
      "\u001b[1;32mpandas\\_libs\\parsers.pyx\u001b[0m in \u001b[0;36mpandas._libs.parsers.TextReader.__cinit__\u001b[1;34m()\u001b[0m\n",
      "\u001b[1;32mpandas\\_libs\\parsers.pyx\u001b[0m in \u001b[0;36mpandas._libs.parsers.TextReader._setup_parser_source\u001b[1;34m()\u001b[0m\n",
      "\u001b[1;31mFileNotFoundError\u001b[0m: File b'../PadraoK3_Gaiola_cell3eletrodos.txt' does not exist"
     ]
    }
   ],
   "source": [
    "df=pd.read_csv('../PadraoK3_Gaiola_cell3eletrodos.txt', sep='\\t')\n",
    "df.head()"
   ]
  },
  {
   "cell_type": "code",
   "execution_count": 12,
   "metadata": {},
   "outputs": [
    {
     "data": {
      "text/plain": [
       "[<matplotlib.lines.Line2D at 0x23ba9c57208>]"
      ]
     },
     "execution_count": 12,
     "metadata": {},
     "output_type": "execute_result"
    },
    {
     "name": "stderr",
     "output_type": "stream",
     "text": [
      "C:\\Users\\Meenakshi Krishnan\\Miniconda3\\lib\\site-packages\\matplotlib\\figure.py:2359: UserWarning: This figure includes Axes that are not compatible with tight_layout, so results might be incorrect.\n",
      "  warnings.warn(\"This figure includes Axes that are not compatible \"\n"
     ]
    },
    {
     "data": {
      "image/png": "[encoded data removed]",
      "text/plain": [
       "<Figure size 432x288 with 1 Axes>"
      ]
     },
     "metadata": {
      "needs_background": "light"
     },
     "output_type": "display_data"
    }
   ],
   "source": [
    "%matplotlib inline\n",
    "plt.plot(df['E /V'],df['I /uA.1'])"
   ]
  },
  {
   "cell_type": "code",
   "execution_count": 29,
   "metadata": {},
   "outputs": [],
   "source": [
    "def split_column(column):\n",
    "    \n",
    "    first_half = int(len(column)/2)\n",
    "    second_half = int(len(column))\n",
    "    col_array = np.array(column)\n",
    "    col1 = col_array[0:first_half]\n",
    "    col2 = col_array[(first_half+1):second_half]\n",
    "    return col1, col2"
   ]
  },
  {
   "cell_type": "code",
   "execution_count": 30,
   "metadata": {},
   "outputs": [
    {
     "data": {
      "text/plain": [
       "(array([ 7.0400e+00,  6.9980e+00,  6.9640e+00,  6.9320e+00,  6.9080e+00,\n",
       "         6.8710e+00,  6.8410e+00,  6.8120e+00,  6.7850e+00,  6.7560e+00,\n",
       "         6.7280e+00,  6.6980e+00,  6.6690e+00,  6.6420e+00,  6.6130e+00,\n",
       "         6.5840e+00,  6.5550e+00,  6.5300e+00,  6.5050e+00,  6.4780e+00,\n",
       "         6.4520e+00,  6.4250e+00,  6.4010e+00,  6.3770e+00,  6.3510e+00,\n",
       "         6.3230e+00,  6.3020e+00,  6.2760e+00,  6.2490e+00,  6.2270e+00,\n",
       "         6.2090e+00,  6.1950e+00,  6.1760e+00,  6.1530e+00,  6.1290e+00,\n",
       "         6.1070e+00,  6.0850e+00,  6.0570e+00,  6.0310e+00,  6.0100e+00,\n",
       "         5.9950e+00,  5.9790e+00,  5.9580e+00,  5.9350e+00,  5.9130e+00,\n",
       "         5.8960e+00,  5.8740e+00,  5.8550e+00,  5.8340e+00,  5.8130e+00,\n",
       "         5.7940e+00,  5.7730e+00,  5.7510e+00,  5.7280e+00,  5.7060e+00,\n",
       "         5.6840e+00,  5.6640e+00,  5.6410e+00,  5.6200e+00,  5.6000e+00,\n",
       "         5.5820e+00,  5.5650e+00,  5.5460e+00,  5.5280e+00,  5.5090e+00,\n",
       "         5.4910e+00,  5.4720e+00,  5.4500e+00,  5.4310e+00,  5.4100e+00,\n",
       "         5.3920e+00,  5.3740e+00,  5.3540e+00,  5.3340e+00,  5.3160e+00,\n",
       "         5.2970e+00,  5.2780e+00,  5.2580e+00,  5.2400e+00,  5.2210e+00,\n",
       "         5.2020e+00,  5.1820e+00,  5.1630e+00,  5.1440e+00,  5.1250e+00,\n",
       "         5.1030e+00,  5.0830e+00,  5.0660e+00,  5.0490e+00,  5.0320e+00,\n",
       "         5.0140e+00,  4.9990e+00,  4.9840e+00,  4.9670e+00,  4.9500e+00,\n",
       "         4.9320e+00,  4.9180e+00,  4.9020e+00,  4.8860e+00,  4.8720e+00,\n",
       "         4.8620e+00,  4.8520e+00,  4.8360e+00,  4.8150e+00,  4.7960e+00,\n",
       "         4.7760e+00,  4.7570e+00,  4.7340e+00,  4.7130e+00,  4.6950e+00,\n",
       "         4.6820e+00,  4.6680e+00,  4.6480e+00,  4.6300e+00,  4.6130e+00,\n",
       "         4.5950e+00,  4.5750e+00,  4.5540e+00,  4.5330e+00,  4.5130e+00,\n",
       "         4.4970e+00,  4.4770e+00,  4.4570e+00,  4.4370e+00,  4.4180e+00,\n",
       "         4.3950e+00,  4.3720e+00,  4.3510e+00,  4.3300e+00,  4.3080e+00,\n",
       "         4.2880e+00,  4.2660e+00,  4.2430e+00,  4.2200e+00,  4.1990e+00,\n",
       "         4.1760e+00,  4.1530e+00,  4.1300e+00,  4.1070e+00,  4.0810e+00,\n",
       "         4.0550e+00,  4.0290e+00,  4.0010e+00,  3.9770e+00,  3.9530e+00,\n",
       "         3.9290e+00,  3.9050e+00,  3.8820e+00,  3.8580e+00,  3.8310e+00,\n",
       "         3.8000e+00,  3.7680e+00,  3.7370e+00,  3.7040e+00,  3.6690e+00,\n",
       "         3.6360e+00,  3.6020e+00,  3.5680e+00,  3.5340e+00,  3.4970e+00,\n",
       "         3.4600e+00,  3.4260e+00,  3.3900e+00,  3.3510e+00,  3.3110e+00,\n",
       "         3.2720e+00,  3.2360e+00,  3.1930e+00,  3.1410e+00,  3.0930e+00,\n",
       "         3.0550e+00,  3.0120e+00,  2.9640e+00,  2.9150e+00,  2.8650e+00,\n",
       "         2.8180e+00,  2.7690e+00,  2.7080e+00,  2.6430e+00,  2.5830e+00,\n",
       "         2.5280e+00,  2.4640e+00,  2.4000e+00,  2.3340e+00,  2.2670e+00,\n",
       "         2.2000e+00,  2.1260e+00,  2.0480e+00,  1.9690e+00,  1.8880e+00,\n",
       "         1.8050e+00,  1.7190e+00,  1.6340e+00,  1.5420e+00,  1.4450e+00,\n",
       "         1.3470e+00,  1.2440e+00,  1.1390e+00,  1.0290e+00,  9.2000e-01,\n",
       "         8.0600e-01,  6.8900e-01,  5.6900e-01,  4.4100e-01,  3.1200e-01,\n",
       "         1.8100e-01,  4.5000e-02, -9.5000e-02, -2.4200e-01, -3.9000e-01,\n",
       "        -5.4300e-01, -7.0100e-01, -8.6300e-01, -1.0290e+00, -1.2010e+00,\n",
       "        -1.3770e+00, -1.5610e+00, -1.7530e+00, -1.9520e+00, -2.1580e+00,\n",
       "        -2.3700e+00, -2.5890e+00, -2.8140e+00, -3.0450e+00, -3.2800e+00,\n",
       "        -3.5210e+00, -3.7670e+00, -4.0190e+00, -4.2750e+00, -4.5390e+00,\n",
       "        -4.8090e+00, -5.0900e+00, -5.3800e+00, -5.6760e+00, -5.9780e+00,\n",
       "        -6.2870e+00, -6.6010e+00, -6.9330e+00, -7.2720e+00, -7.6100e+00,\n",
       "        -7.9520e+00, -8.3070e+00, -8.6700e+00, -9.0370e+00, -9.4090e+00,\n",
       "        -9.7860e+00, -1.0177e+01, -1.0586e+01, -1.1001e+01, -1.1417e+01,\n",
       "        -1.1844e+01, -1.2284e+01, -1.2732e+01, -1.3185e+01, -1.3642e+01,\n",
       "        -1.4106e+01, -1.4577e+01, -1.5051e+01, -1.5536e+01, -1.6026e+01,\n",
       "        -1.6522e+01, -1.7026e+01, -1.7540e+01, -1.8059e+01, -1.8584e+01,\n",
       "        -1.9115e+01, -1.9650e+01, -2.0191e+01, -2.0737e+01, -2.1287e+01,\n",
       "        -2.1837e+01, -2.2392e+01, -2.2950e+01, -2.3508e+01, -2.4071e+01,\n",
       "        -2.4635e+01, -2.5202e+01, -2.5773e+01, -2.6344e+01, -2.6919e+01,\n",
       "        -2.7490e+01, -2.8061e+01, -2.8626e+01, -2.9190e+01, -2.9753e+01,\n",
       "        -3.0314e+01, -3.0873e+01, -3.1428e+01, -3.1984e+01, -3.2539e+01,\n",
       "        -3.3086e+01, -3.3627e+01, -3.4160e+01, -3.4688e+01, -3.5210e+01,\n",
       "        -3.5728e+01, -3.6237e+01, -3.6736e+01, -3.7232e+01, -3.7715e+01,\n",
       "        -3.8189e+01, -3.8650e+01, -3.9103e+01, -3.9544e+01, -3.9977e+01,\n",
       "        -4.0390e+01, -4.0798e+01, -4.1200e+01, -4.1586e+01, -4.1948e+01,\n",
       "        -4.2295e+01, -4.2632e+01, -4.2960e+01, -4.3270e+01, -4.3566e+01,\n",
       "        -4.3842e+01, -4.4120e+01, -4.4382e+01, -4.4623e+01, -4.4838e+01,\n",
       "        -4.5042e+01, -4.5236e+01, -4.5416e+01, -4.5577e+01, -4.5721e+01,\n",
       "        -4.5853e+01, -4.5976e+01, -4.6078e+01, -4.6168e+01, -4.6238e+01,\n",
       "        -4.6296e+01, -4.6334e+01, -4.6359e+01, -4.6370e+01, -4.6365e+01,\n",
       "        -4.6351e+01, -4.6327e+01, -4.6290e+01, -4.6241e+01, -4.6179e+01,\n",
       "        -4.6107e+01, -4.6017e+01, -4.5922e+01, -4.5818e+01, -4.5701e+01,\n",
       "        -4.5574e+01, -4.5438e+01, -4.5296e+01, -4.5146e+01, -4.4989e+01,\n",
       "        -4.4824e+01, -4.4650e+01, -4.4473e+01, -4.4290e+01, -4.4098e+01,\n",
       "        -4.3901e+01, -4.3698e+01, -4.3493e+01, -4.3284e+01, -4.3074e+01,\n",
       "        -4.2861e+01, -4.2645e+01, -4.2427e+01, -4.2208e+01, -4.1988e+01,\n",
       "        -4.1764e+01, -4.1537e+01, -4.1310e+01, -4.1081e+01, -4.0853e+01,\n",
       "        -4.0623e+01, -4.0393e+01, -4.0163e+01, -3.9933e+01, -3.9701e+01,\n",
       "        -3.9462e+01, -3.9235e+01, -3.9012e+01, -3.8782e+01, -3.8549e+01,\n",
       "        -3.8318e+01, -3.8093e+01, -3.7870e+01, -3.7644e+01, -3.7419e+01,\n",
       "        -3.7197e+01, -3.6989e+01, -3.6781e+01, -3.6568e+01, -3.6355e+01,\n",
       "        -3.6149e+01, -3.5945e+01, -3.5744e+01, -3.5541e+01, -3.5342e+01,\n",
       "        -3.5145e+01, -3.4953e+01, -3.4760e+01, -3.4571e+01, -3.4383e+01,\n",
       "        -3.4198e+01, -3.4012e+01, -3.3830e+01, -3.3649e+01, -3.3470e+01,\n",
       "        -3.3295e+01, -3.3123e+01, -3.2952e+01, -3.2782e+01, -3.2614e+01,\n",
       "        -3.2447e+01, -3.2280e+01, -3.2116e+01, -3.1955e+01, -3.1799e+01,\n",
       "        -3.1642e+01, -3.1486e+01, -3.1337e+01, -3.1187e+01, -3.1042e+01,\n",
       "        -3.0895e+01, -3.0750e+01, -3.0609e+01, -3.0472e+01, -3.0337e+01,\n",
       "        -3.0198e+01, -3.0063e+01, -2.9931e+01, -2.9801e+01, -2.9672e+01,\n",
       "        -2.9543e+01, -2.9413e+01, -2.9289e+01, -2.9167e+01, -2.9045e+01,\n",
       "        -2.8925e+01, -2.8807e+01, -2.8691e+01, -2.8579e+01, -2.8465e+01,\n",
       "        -2.8352e+01, -2.8239e+01, -2.8127e+01, -2.8017e+01, -2.7908e+01,\n",
       "        -2.7795e+01, -2.7695e+01, -2.7597e+01, -2.7493e+01, -2.7385e+01,\n",
       "        -2.7280e+01, -2.7179e+01, -2.7075e+01, -2.6974e+01, -2.6873e+01,\n",
       "        -2.6776e+01, -2.6694e+01, -2.6605e+01, -2.6509e+01, -2.6415e+01,\n",
       "        -2.6324e+01, -2.6237e+01, -2.6145e+01, -2.6053e+01, -2.5968e+01,\n",
       "        -2.5883e+01, -2.5799e+01, -2.5715e+01, -2.5632e+01, -2.5554e+01,\n",
       "        -2.5477e+01, -2.5398e+01, -2.5319e+01, -2.5242e+01, -2.5165e+01,\n",
       "        -2.5087e+01, -2.5011e+01, -2.4936e+01, -2.4862e+01, -2.4789e+01,\n",
       "        -2.4716e+01, -2.4640e+01, -2.4568e+01, -2.4496e+01, -2.4426e+01,\n",
       "        -2.4357e+01, -2.4290e+01, -2.4225e+01, -2.4161e+01, -2.4097e+01,\n",
       "        -2.4035e+01, -2.3971e+01, -2.3906e+01, -2.3844e+01, -2.3783e+01,\n",
       "        -2.3720e+01, -2.3658e+01, -2.3598e+01, -2.3537e+01, -2.3475e+01]),\n",
       " array([-2.3341e+01, -2.3270e+01, -2.3201e+01, -2.3133e+01, -2.3066e+01,\n",
       "        -2.3000e+01, -2.2938e+01, -2.2876e+01, -2.2815e+01, -2.2754e+01,\n",
       "        -2.2692e+01, -2.2633e+01, -2.2578e+01, -2.2515e+01, -2.2454e+01,\n",
       "        -2.2401e+01, -2.2347e+01, -2.2284e+01, -2.2224e+01, -2.2167e+01,\n",
       "        -2.2110e+01, -2.2053e+01, -2.1993e+01, -2.1931e+01, -2.1875e+01,\n",
       "        -2.1823e+01, -2.1767e+01, -2.1707e+01, -2.1656e+01, -2.1602e+01,\n",
       "        -2.1549e+01, -2.1497e+01, -2.1442e+01, -2.1393e+01, -2.1341e+01,\n",
       "        -2.1290e+01, -2.1241e+01, -2.1190e+01, -2.1142e+01, -2.1091e+01,\n",
       "        -2.1038e+01, -2.0988e+01, -2.0935e+01, -2.0885e+01, -2.0835e+01,\n",
       "        -2.0784e+01, -2.0734e+01, -2.0685e+01, -2.0638e+01, -2.0589e+01,\n",
       "        -2.0536e+01, -2.0487e+01, -2.0434e+01, -2.0382e+01, -2.0329e+01,\n",
       "        -2.0274e+01, -2.0222e+01, -2.0171e+01, -2.0120e+01, -2.0068e+01,\n",
       "        -2.0020e+01, -1.9971e+01, -1.9920e+01, -1.9869e+01, -1.9815e+01,\n",
       "        -1.9759e+01, -1.9706e+01, -1.9650e+01, -1.9599e+01, -1.9546e+01,\n",
       "        -1.9492e+01, -1.9438e+01, -1.9383e+01, -1.9326e+01, -1.9266e+01,\n",
       "        -1.9204e+01, -1.9145e+01, -1.9086e+01, -1.9030e+01, -1.8967e+01,\n",
       "        -1.8902e+01, -1.8838e+01, -1.8771e+01, -1.8699e+01, -1.8632e+01,\n",
       "        -1.8570e+01, -1.8504e+01, -1.8430e+01, -1.8357e+01, -1.8284e+01,\n",
       "        -1.8208e+01, -1.8127e+01, -1.8042e+01, -1.7958e+01, -1.7882e+01,\n",
       "        -1.7806e+01, -1.7721e+01, -1.7632e+01, -1.7546e+01, -1.7462e+01,\n",
       "        -1.7374e+01, -1.7278e+01, -1.7184e+01, -1.7090e+01, -1.6993e+01,\n",
       "        -1.6892e+01, -1.6786e+01, -1.6678e+01, -1.6568e+01, -1.6455e+01,\n",
       "        -1.6341e+01, -1.6222e+01, -1.6102e+01, -1.5981e+01, -1.5856e+01,\n",
       "        -1.5727e+01, -1.5593e+01, -1.5458e+01, -1.5316e+01, -1.5172e+01,\n",
       "        -1.5023e+01, -1.4872e+01, -1.4716e+01, -1.4556e+01, -1.4390e+01,\n",
       "        -1.4219e+01, -1.4042e+01, -1.3861e+01, -1.3674e+01, -1.3483e+01,\n",
       "        -1.3284e+01, -1.3085e+01, -1.2881e+01, -1.2671e+01, -1.2450e+01,\n",
       "        -1.2226e+01, -1.2000e+01, -1.1769e+01, -1.1528e+01, -1.1284e+01,\n",
       "        -1.1032e+01, -1.0774e+01, -1.0512e+01, -1.0239e+01, -9.9570e+00,\n",
       "        -9.6720e+00, -9.3790e+00, -9.0780e+00, -8.7690e+00, -8.4540e+00,\n",
       "        -8.1310e+00, -7.8010e+00, -7.4590e+00, -7.1060e+00, -6.7590e+00,\n",
       "        -6.4030e+00, -6.0290e+00, -5.6440e+00, -5.2550e+00, -4.8620e+00,\n",
       "        -4.4600e+00, -4.0510e+00, -3.6290e+00, -3.2040e+00, -2.7820e+00,\n",
       "        -2.3450e+00, -1.8930e+00, -1.4320e+00, -9.7000e-01, -5.0400e-01,\n",
       "        -2.8000e-02,  4.5600e-01,  9.4500e-01,  1.4400e+00,  1.9420e+00,\n",
       "         2.4510e+00,  2.9650e+00,  3.4870e+00,  4.0120e+00,  4.5400e+00,\n",
       "         5.0790e+00,  5.6240e+00,  6.1710e+00,  6.7240e+00,  7.2810e+00,\n",
       "         7.8410e+00,  8.4040e+00,  8.9710e+00,  9.5390e+00,  1.0108e+01,\n",
       "         1.0683e+01,  1.1258e+01,  1.1832e+01,  1.2407e+01,  1.2982e+01,\n",
       "         1.3556e+01,  1.4129e+01,  1.4706e+01,  1.5283e+01,  1.5861e+01,\n",
       "         1.6437e+01,  1.7008e+01,  1.7576e+01,  1.8139e+01,  1.8699e+01,\n",
       "         1.9252e+01,  1.9796e+01,  2.0338e+01,  2.0875e+01,  2.1406e+01,\n",
       "         2.1926e+01,  2.2439e+01,  2.2947e+01,  2.3444e+01,  2.3936e+01,\n",
       "         2.4415e+01,  2.4886e+01,  2.5346e+01,  2.5796e+01,  2.6236e+01,\n",
       "         2.6662e+01,  2.7079e+01,  2.7489e+01,  2.7884e+01,  2.8260e+01,\n",
       "         2.8625e+01,  2.8987e+01,  2.9333e+01,  2.9662e+01,  2.9975e+01,\n",
       "         3.0274e+01,  3.0562e+01,  3.0837e+01,  3.1090e+01,  3.1323e+01,\n",
       "         3.1550e+01,  3.1765e+01,  3.1960e+01,  3.2137e+01,  3.2300e+01,\n",
       "         3.2451e+01,  3.2588e+01,  3.2711e+01,  3.2816e+01,  3.2907e+01,\n",
       "         3.2983e+01,  3.3044e+01,  3.3091e+01,  3.3126e+01,  3.3146e+01,\n",
       "         3.3153e+01,  3.3150e+01,  3.3133e+01,  3.3104e+01,  3.3062e+01,\n",
       "         3.3010e+01,  3.2944e+01,  3.2869e+01,  3.2783e+01,  3.2685e+01,\n",
       "         3.2580e+01,  3.2466e+01,  3.2341e+01,  3.2210e+01,  3.2070e+01,\n",
       "         3.1923e+01,  3.1767e+01,  3.1605e+01,  3.1440e+01,  3.1267e+01,\n",
       "         3.1090e+01,  3.0907e+01,  3.0721e+01,  3.0531e+01,  3.0336e+01,\n",
       "         3.0138e+01,  2.9931e+01,  2.9722e+01,  2.9515e+01,  2.9300e+01,\n",
       "         2.9085e+01,  2.8866e+01,  2.8648e+01,  2.8429e+01,  2.8211e+01,\n",
       "         2.7990e+01,  2.7767e+01,  2.7546e+01,  2.7328e+01,  2.7106e+01,\n",
       "         2.6886e+01,  2.6668e+01,  2.6456e+01,  2.6239e+01,  2.6014e+01,\n",
       "         2.5799e+01,  2.5590e+01,  2.5376e+01,  2.5164e+01,  2.4955e+01,\n",
       "         2.4752e+01,  2.4554e+01,  2.4357e+01,  2.4151e+01,  2.3946e+01,\n",
       "         2.3753e+01,  2.3557e+01,  2.3354e+01,  2.3156e+01,  2.2959e+01,\n",
       "         2.2766e+01,  2.2573e+01,  2.2380e+01,  2.2192e+01,  2.2008e+01,\n",
       "         2.1825e+01,  2.1644e+01,  2.1464e+01,  2.1289e+01,  2.1115e+01,\n",
       "         2.0942e+01,  2.0773e+01,  2.0605e+01,  2.0440e+01,  2.0278e+01,\n",
       "         2.0116e+01,  1.9955e+01,  1.9794e+01,  1.9636e+01,  1.9482e+01,\n",
       "         1.9330e+01,  1.9180e+01,  1.9033e+01,  1.8887e+01,  1.8745e+01,\n",
       "         1.8604e+01,  1.8462e+01,  1.8322e+01,  1.8185e+01,  1.8052e+01,\n",
       "         1.7921e+01,  1.7791e+01,  1.7664e+01,  1.7537e+01,  1.7414e+01,\n",
       "         1.7286e+01,  1.7160e+01,  1.7037e+01,  1.6915e+01,  1.6793e+01,\n",
       "         1.6674e+01,  1.6557e+01,  1.6443e+01,  1.6331e+01,  1.6220e+01,\n",
       "         1.6109e+01,  1.6000e+01,  1.5895e+01,  1.5789e+01,  1.5684e+01,\n",
       "         1.5579e+01,  1.5484e+01,  1.5382e+01,  1.5278e+01,  1.5177e+01,\n",
       "         1.5087e+01,  1.4999e+01,  1.4907e+01,  1.4815e+01,  1.4725e+01,\n",
       "         1.4638e+01,  1.4555e+01,  1.4464e+01,  1.4373e+01,  1.4287e+01,\n",
       "         1.4208e+01,  1.4126e+01,  1.4040e+01,  1.3958e+01,  1.3876e+01,\n",
       "         1.3796e+01,  1.3715e+01,  1.3638e+01,  1.3562e+01,  1.3485e+01,\n",
       "         1.3410e+01,  1.3334e+01,  1.3260e+01,  1.3188e+01,  1.3111e+01,\n",
       "         1.3036e+01,  1.2963e+01,  1.2891e+01,  1.2821e+01,  1.2753e+01,\n",
       "         1.2687e+01,  1.2619e+01,  1.2554e+01,  1.2489e+01,  1.2423e+01,\n",
       "         1.2359e+01,  1.2295e+01,  1.2232e+01,  1.2169e+01,  1.2107e+01,\n",
       "         1.2048e+01,  1.1988e+01,  1.1929e+01,  1.1869e+01,  1.1811e+01,\n",
       "         1.1753e+01,  1.1696e+01,  1.1640e+01,  1.1583e+01,  1.1528e+01,\n",
       "         1.1470e+01,  1.1414e+01,  1.1357e+01,  1.1302e+01,  1.1247e+01,\n",
       "         1.1193e+01,  1.1139e+01,  1.1087e+01,  1.1036e+01,  1.0985e+01,\n",
       "         1.0933e+01,  1.0885e+01,  1.0837e+01,  1.0789e+01,  1.0739e+01,\n",
       "         1.0692e+01,  1.0644e+01,  1.0600e+01,  1.0554e+01,  1.0511e+01,\n",
       "         1.0475e+01,  1.0437e+01,  1.0393e+01,  1.0348e+01,  1.0303e+01,\n",
       "         1.0260e+01,  1.0214e+01,  1.0170e+01,  1.0124e+01,  1.0085e+01,\n",
       "         1.0048e+01,  1.0005e+01,  9.9600e+00,  9.9170e+00,  9.8780e+00,\n",
       "         9.8370e+00,  9.7960e+00,  9.7560e+00,  9.7180e+00,  9.6800e+00,\n",
       "         9.6410e+00,  9.6010e+00,  9.5620e+00,  9.5230e+00,  9.4870e+00,\n",
       "         9.4500e+00,  9.4130e+00,  9.3780e+00,  9.3430e+00,  9.3100e+00,\n",
       "         9.2750e+00,  9.2390e+00,  9.2050e+00,  9.1710e+00,  9.1370e+00,\n",
       "         9.1020e+00,  9.0670e+00,  9.0330e+00,  8.9980e+00,  8.9640e+00,\n",
       "         8.9300e+00,  8.8970e+00,  8.8660e+00,  8.8330e+00,  8.8020e+00,\n",
       "         8.7700e+00,  8.7380e+00,  8.7070e+00,  8.6780e+00,  8.6480e+00,\n",
       "         8.6170e+00,  8.5870e+00,  8.5570e+00,  8.5240e+00,  8.4920e+00,\n",
       "         8.4590e+00,  8.4280e+00,  8.3990e+00,  8.3720e+00,  8.3430e+00,\n",
       "         8.3170e+00,  8.2860e+00,  8.2560e+00,  8.2260e+00]))"
      ]
     },
     "execution_count": 30,
     "metadata": {},
     "output_type": "execute_result"
    }
   ],
   "source": [
    "split_vector(df['I /uA.1'])"
   ]
  },
  {
   "cell_type": "code",
   "execution_count": 53,
   "metadata": {},
   "outputs": [],
   "source": [
    "import peakutils \n",
    "def peak_detection(data_y):\n",
    "    \"\"\" peak_detection(dataframe['y column'])\n",
    "    This function returns a list of the indecies of the y values of the peaks detected in the dataset.\n",
    "    The function takes an input of the column containing the y variables in the dataframe.\n",
    "    This column is then split into two arrays, one of the positive and one of the negative values.\n",
    "    This is because cyclic voltammetry delivers negative peaks however the peakutils function work better with positive peaks.\n",
    "    The absolute values of each of these vectors are then imported into the peakutils.indexes \n",
    "    function to determine the significant peak(s) for each array. The value(s) are then saved as a list.\"\"\"\n",
    "    \n",
    "    index_list = []\n",
    "    \n",
    "    y1, y2 = split_column(data_y)\n",
    "    \n",
    "    peak_top = peakutils.indexes(y2, thres=0.05, min_dist=0.001)\n",
    "    peak_bottom = peakutils.indexes(abs(y1), thres=0.05, min_dist=0.001)\n",
    "    index_list.append([peak_top[0], peak_bottom[0]])\n",
    "    \n",
    "    return index_list"
   ]
  },
  {
   "cell_type": "code",
   "execution_count": 54,
   "metadata": {},
   "outputs": [
    {
     "data": {
      "text/plain": [
       "[[250, 333]]"
      ]
     },
     "execution_count": 54,
     "metadata": {},
     "output_type": "execute_result"
    }
   ],
   "source": [
    "peak_detection(df['I /uA.1'])"
   ]
  },
  {
   "cell_type": "code",
   "execution_count": 6,
   "metadata": {},
   "outputs": [],
   "source": [
    "def peak_detection_fxn(data_y):\n",
    "    \n",
    "    index_list = []\n",
    "    \n",
    "    col_y1, col_y2 = split_column(data_y)\n",
    "    \n",
    "    peak_top = peakutils.indexes(y2, thres=0.99, min_dist=0.001)\n",
    "    peak_bottom = peakutils.indexes(abs(y1), thres=0.99, min_dist=0.001)\n",
    "    \n",
    "    len_top = len(peak_top)\n",
    "    len_bottom = len(peak_bottom)\n",
    "    \n",
    "    index_list.append([peak_top[int(len_top/2)], peak_bottom[int(len_bottom/2)]])\n",
    "    return index_list"
   ]
  },
  {
   "cell_type": "code",
   "execution_count": 7,
   "metadata": {},
   "outputs": [
    {
     "ename": "NameError",
     "evalue": "name 'df' is not defined",
     "output_type": "error",
     "traceback": [
      "\u001b[1;31m---------------------------------------------------------------------------\u001b[0m",
      "\u001b[1;31mNameError\u001b[0m                                 Traceback (most recent call last)",
      "\u001b[1;32m<ipython-input-7-62f586320ae2>\u001b[0m in \u001b[0;36m<module>\u001b[1;34m\u001b[0m\n\u001b[1;32m----> 1\u001b[1;33m \u001b[0mpeak_detection_fxn\u001b[0m\u001b[1;33m(\u001b[0m\u001b[0mdf\u001b[0m\u001b[1;33m[\u001b[0m\u001b[1;34m'I /uA.1'\u001b[0m\u001b[1;33m]\u001b[0m\u001b[1;33m)\u001b[0m\u001b[1;33m\u001b[0m\u001b[0m\n\u001b[0m",
      "\u001b[1;31mNameError\u001b[0m: name 'df' is not defined"
     ]
    }
   ],
   "source": [
    "peak_detection_fxn(df['I /uA.1'])"
   ]
  },
  {
   "cell_type": "code",
   "execution_count": 17,
   "metadata": {},
   "outputs": [],
   "source": [
    "def interpolation(data_x, data_y):\n",
    "    \"\"\"interpolation(dataframe['x column'], dataframe['y column'])\n",
    "    This function returns a list of the fitted values of the peals in the dataset.\n",
    "    It calls the peak_detection function and type casts the outputs to numpy ndarrays\n",
    "    (as that is what the peakutils.interpolation function takes in).\n",
    "    The function also typecasts the x and y value columns to numpy ndarrays.\n",
    "    The function then uses the peakutils.interpolation function to enhance the resolution of the peak values.\n",
    "    This gives more precise numbers. The function returns a list.\"\"\"\n",
    "    \n",
    "    x = np.array(data_x)\n",
    "    y = np.array(data_y)\n",
    "\n",
    "    index = peak_detection(data_y)[0]\n",
    "    index = np.asarray(index)\n",
    "\n",
    "    smooth_index = []\n",
    "    smooth = peakutils.interpolate(x, y, ind=index)\n",
    "    smooth_index.append(list(smooth))\n",
    "\n",
    "    return smooth_index"
   ]
  },
  {
   "cell_type": "code",
   "execution_count": 18,
   "metadata": {},
   "outputs": [
    {
     "data": {
      "text/plain": [
       "[[0.1662526114119476, 0.19420600860270518]]"
      ]
     },
     "execution_count": 18,
     "metadata": {},
     "output_type": "execute_result"
    }
   ],
   "source": [
    "interpolation(df['E /V'],df['I /uA.1'])"
   ]
  },
  {
   "cell_type": "code",
   "execution_count": 19,
   "metadata": {},
   "outputs": [],
   "source": [
    "import file_read"
   ]
  },
  {
   "cell_type": "code",
   "execution_count": 22,
   "metadata": {},
   "outputs": [],
   "source": [
    "def wrap_peaks(data,n_cycle):\n",
    "    \"\"\"wrap_peaks(dataframe, array of cycle #s)\n",
    "    This function returns a dictonary of peak indecies corresponding to a specific cycle number,\n",
    "    where the key is the cycle number and the value is the peak indecies.\n",
    "    This function takes in the dataframe and a single numeric value or array\n",
    "    of numeric values corresponding to the cycle number(s) of interest.\n",
    "    The function utilizes a for loop, in the range of the cycle number array,\n",
    "    to call the interpolation function to compute the peak indecies at each cycle number or interest.\"\"\"\n",
    "    \n",
    "    cycle_values = {}\n",
    "    # key in cycle number, value is list of peak indexes from interpolation fxn\n",
    "    \n",
    "    for key, value in n_cycle:\n",
    "        index_values = interpolation(data.iloc[0][i], data.iloc[2][i])\n",
    "        cycle_values[i] = index_values\n",
    "        \n",
    "    return cycle_values"
   ]
  },
  {
   "cell_type": "code",
   "execution_count": 21,
   "metadata": {},
   "outputs": [
    {
     "ename": "NameError",
     "evalue": "name 'n_cycle' is not defined",
     "output_type": "error",
     "traceback": [
      "\u001b[1;31m---------------------------------------------------------------------------\u001b[0m",
      "\u001b[1;31mNameError\u001b[0m                                 Traceback (most recent call last)",
      "\u001b[1;32m<ipython-input-21-628a25dd8a62>\u001b[0m in \u001b[0;36m<module>\u001b[1;34m\u001b[0m\n\u001b[0;32m      1\u001b[0m \u001b[1;31m#n_cycle =\u001b[0m\u001b[1;33m\u001b[0m\u001b[1;33m\u001b[0m\u001b[0m\n\u001b[1;32m----> 2\u001b[1;33m \u001b[0mwrap_peaks\u001b[0m\u001b[1;33m(\u001b[0m\u001b[0mdf\u001b[0m\u001b[1;33m,\u001b[0m \u001b[0mn_cycle\u001b[0m\u001b[1;33m)\u001b[0m\u001b[1;33m\u001b[0m\u001b[0m\n\u001b[0m",
      "\u001b[1;31mNameError\u001b[0m: name 'n_cycle' is not defined"
     ]
    }
   ],
   "source": [
    "#n_cycle = \n",
    "wrap_peaks(df, n_cycle)"
   ]
  },
  {
   "cell_type": "code",
   "execution_count": null,
   "metadata": {},
   "outputs": [],
   "source": [
    "def test_peak_detection():\n",
    "    \n",
    "    \n",
    "    # check if the output type is a list\n",
    "    assert isinstance(peak_detection(data_y), list)\n",
    "    \n",
    "    # check if the output value is an int\n",
    "    # so it is known that it is an index and not the value\n",
    "    assert (peak_detection(data_y)[0]) == int\n",
    "    \n",
    "    #check that second index is less that len(df)/2"
   ]
  },
  {
   "cell_type": "code",
   "execution_count": null,
   "metadata": {},
   "outputs": [],
   "source": [
    "def test_interpolation():\n",
    "    \n",
    "        \n",
    "    # check if the output type is a list\n",
    "    assert isinstance(peak_detection(data_y), list)\n",
    "    \n",
    "    # check if the output value is a float\n",
    "    # know that it is the value at the index and not just the index\n",
    "    assert (peak_detection(data_y)[0]) == float"
   ]
  },
  {
   "cell_type": "code",
   "execution_count": null,
   "metadata": {},
   "outputs": [],
   "source": [
    "def test_wrap_peaks():"
   ]
  }
 ],
 "metadata": {
  "kernelspec": {
   "display_name": "Python 3",
   "language": "python",
   "name": "python3"
  },
  "language_info": {
   "codemirror_mode": {
    "name": "ipython",
    "version": 3
   },
   "file_extension": ".py",
   "mimetype": "text/x-python",
   "name": "python",
   "nbconvert_exporter": "python",
   "pygments_lexer": "ipython3",
   "version": "3.7.0"
  }
 },
 "nbformat": 4,
 "nbformat_minor": 2
}
