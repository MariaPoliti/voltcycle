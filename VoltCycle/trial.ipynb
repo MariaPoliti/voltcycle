{
 "cells": [
  {
   "cell_type": "code",
   "execution_count": 43,
   "metadata": {},
   "outputs": [
    {
     "name": "stdout",
     "output_type": "stream",
     "text": [
      "test.txt Opened\n",
      "1\n",
      "2\n",
      "executed\n"
     ]
    },
    {
     "name": "stderr",
     "output_type": "stream",
     "text": [
      "/Users/sabiha/anaconda3/lib/python3.6/site-packages/matplotlib/figure.py:2267: UserWarning: This figure includes Axes that are not compatible with tight_layout, so results might be incorrect.\n",
      "  warnings.warn(\"This figure includes Axes that are not compatible \"\n"
     ]
    },
    {
     "data": {
      "image/png": "[encoded data removed]",
      "text/plain": [
       "<Figure size 432x288 with 1 Axes>"
      ]
     },
     "metadata": {},
     "output_type": "display_data"
    }
   ],
   "source": [
    "# Import packages\n",
    "import pandas as pd\n",
    "import numpy as np\n",
    "import csv\n",
    "import matplotlib.pyplot as plt\n",
    "import os\n",
    "import warnings\n",
    "import glob\n",
    "import main"
   ]
  },
  {
   "cell_type": "code",
   "execution_count": 2,
   "metadata": {},
   "outputs": [],
   "source": [
    "# Check for all the modules that required if not exist then exit with notification.\n",
    "import sys\n",
    "import imp\n",
    "try:\n",
    "    imp.find_module('numpy')\n",
    "    foundnp = True\n",
    "except ImportError:\n",
    "    foundnp = False\n",
    "try:\n",
    "    imp.find_module('matplotlib')\n",
    "    foundplot = True\n",
    "except ImportError:\n",
    "    foundplot = False\n",
    "try:\n",
    "    imp.find_module('pandas')\n",
    "    foundpd = True\n",
    "except ImportError:\n",
    "    foundplot = False\n",
    "if not foundnp:\n",
    "    print(\"Numpy is required. Exiting\")\n",
    "    sys.exit()\n",
    "if not foundplot:\n",
    "    print(\"Matplotlib is required. Exiting\")\n",
    "    sys.exit()\n",
    "if not foundpd:\n",
    "    print(\"Pandas is required. Exiting\")\n",
    "    sys.exit()"
   ]
  },
  {
   "cell_type": "code",
   "execution_count": 3,
   "metadata": {},
   "outputs": [],
   "source": [
    "# This part use classification. All the following code blocks with correct indentation should be able to use the same style. \n",
    "# part of _init_\n",
    "class cv:\n",
    "    _colors = {'red': 'r', 'green': 'g', 'blue': 'b', 'yellow': 'y', 'cyan': 'c', 'magenta': 'm', 'black': 'k', 'white': 'w'}\n",
    "    _linestyles = {' ': ' ', '-': 'solid', '--': 'dashed', '-.': 'dash_dot', ':': 'dotted'}\n",
    "    _markers  = {' ': ' ', '.': '.', '_' : '_', 'o': 'o', '*': '*', '+': '+', 'x': 'x', 'square': 's', 'triangle': '^', 'diamond': 'd'}\n"
   ]
  },
  {
   "cell_type": "code",
   "execution_count": 4,
   "metadata": {},
   "outputs": [
    {
     "name": "stdout",
     "output_type": "stream",
     "text": [
      "Plotting the following:\n",
      "[]\n"
     ]
    }
   ],
   "source": [
    "# Find relevant files in folder\n",
    "path = os.getcwd()\n",
    "extension = ['csv','txt','dat'] # Should include all the possible ones\n",
    "os.chdir(path)\n",
    "result = [i for i in glob.glob('*.{}'.format(extension))]\n",
    "print(\"Plotting the following:\")\n",
    "print(result)\n",
    "#Make x-axis\n",
    "t = np.linspace(325, 1100, 776)"
   ]
  },
  {
   "cell_type": "code",
   "execution_count": 7,
   "metadata": {},
   "outputs": [
    {
     "data": {
      "text/html": [
       "<div>\n",
       "<style scoped>\n",
       "    .dataframe tbody tr th:only-of-type {\n",
       "        vertical-align: middle;\n",
       "    }\n",
       "\n",
       "    .dataframe tbody tr th {\n",
       "        vertical-align: top;\n",
       "    }\n",
       "\n",
       "    .dataframe thead th {\n",
       "        text-align: right;\n",
       "    }\n",
       "</style>\n",
       "<table border=\"1\" class=\"dataframe\">\n",
       "  <thead>\n",
       "    <tr style=\"text-align: right;\">\n",
       "      <th></th>\n",
       "      <th>E /V</th>\n",
       "      <th>I /uA</th>\n",
       "      <th>I /uA.1</th>\n",
       "    </tr>\n",
       "  </thead>\n",
       "  <tbody>\n",
       "    <tr>\n",
       "      <th>0</th>\n",
       "      <td>0.500</td>\n",
       "      <td>0.130</td>\n",
       "      <td>7.040</td>\n",
       "    </tr>\n",
       "    <tr>\n",
       "      <th>1</th>\n",
       "      <td>0.499</td>\n",
       "      <td>0.102</td>\n",
       "      <td>6.998</td>\n",
       "    </tr>\n",
       "    <tr>\n",
       "      <th>2</th>\n",
       "      <td>0.498</td>\n",
       "      <td>0.083</td>\n",
       "      <td>6.964</td>\n",
       "    </tr>\n",
       "    <tr>\n",
       "      <th>3</th>\n",
       "      <td>0.497</td>\n",
       "      <td>0.064</td>\n",
       "      <td>6.932</td>\n",
       "    </tr>\n",
       "    <tr>\n",
       "      <th>4</th>\n",
       "      <td>0.496</td>\n",
       "      <td>0.061</td>\n",
       "      <td>6.908</td>\n",
       "    </tr>\n",
       "  </tbody>\n",
       "</table>\n",
       "</div>"
      ],
      "text/plain": [
       "    E /V  I /uA  I /uA.1\n",
       "0  0.500  0.130    7.040\n",
       "1  0.499  0.102    6.998\n",
       "2  0.498  0.083    6.964\n",
       "3  0.497  0.064    6.932\n",
       "4  0.496  0.061    6.908"
      ]
     },
     "execution_count": 7,
     "metadata": {},
     "output_type": "execute_result"
    }
   ],
   "source": [
    "df=pd.read_csv('../Rawdata/PadraoK3_Gaiola_cell3eletrodos.txt', sep='\\t')\n",
    "df.head()"
   ]
  },
  {
   "cell_type": "code",
   "execution_count": 8,
   "metadata": {},
   "outputs": [
    {
     "data": {
      "text/plain": [
       "[<matplotlib.lines.Line2D at 0x107d25f98>]"
      ]
     },
     "execution_count": 8,
     "metadata": {},
     "output_type": "execute_result"
    },
    {
     "data": {
      "image/png": "[encoded data removed]",
      "text/plain": [
       "<Figure size 432x288 with 1 Axes>"
      ]
     },
     "metadata": {},
     "output_type": "display_data"
    }
   ],
   "source": [
    "%matplotlib inline\n",
    "plt.plot(df['E /V'],df['I /uA.1'])"
   ]
  },
  {
   "cell_type": "code",
   "execution_count": 19,
   "metadata": {},
   "outputs": [],
   "source": [
    "def split(vector):\n",
    "    \"\"\"\n",
    "    This function takes an array and splits it into two half.\n",
    "    \"\"\"\n",
    "    split = int(len(vector)/2)\n",
    "    end = int(len(vector))\n",
    "    vector1 = np.array(vector)[0:split]\n",
    "    vector2 = np.array(vector)[split:end]\n",
    "    return vector1, vector2"
   ]
  },
  {
   "cell_type": "code",
   "execution_count": 54,
   "metadata": {},
   "outputs": [],
   "source": [
    "import peakutils \n",
    "def peak_detection(data_y):\n",
    "    \"\"\" peak_detection(dataframe['y column'])\n",
    "    This function returns a list of the indecies of the y values of the peaks detected in the dataset.\n",
    "    The function takes an input of the column containing the y variables in the dataframe.\n",
    "    This column is then split into two arrays, one of the positive and one of the negative values.\n",
    "    This is because cyclic voltammetry delivers negative peaks however the peakutils function work better with positive peaks.\n",
    "    The absolute values of each of these vectors are then imported into the peakutils.indexes \n",
    "    function to determine the significant peak(s) for each array. The value(s) are then saved as a list.\"\"\"\n",
    "    \n",
    "    index_list = []\n",
    "    \n",
    "    y1, y2 = main.split(data_y)\n",
    "    \n",
    "    peak_top = peakutils.indexes(y2, thres=0.07, min_dist=0.001)\n",
    "    peak_bottom = peakutils.indexes(abs(y1), thres=0.07, min_dist=0.001)\n",
    "    index_list.append([peak_top[0], peak_bottom[0]])\n",
    "    \n",
    "    return index_list"
   ]
  },
  {
   "cell_type": "code",
   "execution_count": 55,
   "metadata": {},
   "outputs": [],
   "source": [
    "x = df['E /V']\n",
    "y = df['I /uA.1']\n",
    "x1,x2 = split(x)\n",
    "y1,y2 = split(y)"
   ]
  },
  {
   "cell_type": "code",
   "execution_count": 56,
   "metadata": {},
   "outputs": [
    {
     "data": {
      "text/plain": [
       "[[251, 333]]"
      ]
     },
     "execution_count": 56,
     "metadata": {},
     "output_type": "execute_result"
    }
   ],
   "source": [
    "peak_detection(y)"
   ]
  },
  {
   "cell_type": "code",
   "execution_count": 50,
   "metadata": {},
   "outputs": [
    {
     "data": {
      "text/plain": [
       "[<matplotlib.lines.Line2D at 0x1515143da0>]"
      ]
     },
     "execution_count": 50,
     "metadata": {},
     "output_type": "execute_result"
    },
    {
     "name": "stderr",
     "output_type": "stream",
     "text": [
      "/Users/sabiha/anaconda3/lib/python3.6/site-packages/matplotlib/figure.py:2267: UserWarning: This figure includes Axes that are not compatible with tight_layout, so results might be incorrect.\n",
      "  warnings.warn(\"This figure includes Axes that are not compatible \"\n"
     ]
    },
    {
     "data": {
      "image/png": "[encoded data removed]",
      "text/plain": [
       "<Figure size 432x288 with 1 Axes>"
      ]
     },
     "metadata": {},
     "output_type": "display_data"
    }
   ],
   "source": [
    "plt.plot(x1,y1,color ='red')\n",
    "plt.plot(x2,y2,color = 'blue')\n",
    "plt.plot(x1[251],y1[251],marker='o')\n",
    "plt.plot(x2[333],y2[333],marker='o',color = 'red')"
   ]
  },
  {
   "cell_type": "code",
   "execution_count": 18,
   "metadata": {},
   "outputs": [
    {
     "data": {
      "text/plain": [
       "[[333, 251]]"
      ]
     },
     "execution_count": 18,
     "metadata": {},
     "output_type": "execute_result"
    }
   ],
   "source": [
    "peak_detection(y)"
   ]
  },
  {
   "cell_type": "code",
   "execution_count": 39,
   "metadata": {},
   "outputs": [],
   "source": [
    "def critical_idx(x, y): ## Finds index where data set is no longer linear \n",
    "    \"\"\"\n",
    "    This function takes x and y values callculate the derrivative of x and y, and calculate moving average of 5 and 15 points.\n",
    "    Finds intercepts of different moving average curves and return the indexs of the first intercepts.\n",
    "    \"\"\"\n",
    "    k = np.diff(y)/(np.diff(x)) #calculated slops of x and y\n",
    "\n",
    "    ## Calculate moving average for 5 and 15 points.\n",
    "    ## This two arbitrary number can be tuned to get better fitting.\n",
    "    ave5 = []\n",
    "    ave15 = []\n",
    "    for i in range(len(x)-5):  # The reason to minus 5 is to prevent j from running out of index.\n",
    "        a = 0 \n",
    "        for j in range(0,5):\n",
    "            a = a + k[i+j]\n",
    "        ave5.append(round(a/5, 9)) # keeping 9 desimal points for more accuracy\n",
    "    ave5 = np.asarray(ave5)\n",
    "    for i in range(len(x)-15): \n",
    "        b = 0 \n",
    "        for j in range(0,15):\n",
    "            b = b + k[i+j]\n",
    "        ave15.append(round(b/15, 9))\n",
    "    ave15 = np.asarray(ave15)\n",
    "    ## Find intercepts of different moving average curves\n",
    "    idx = np.argwhere(np.diff(np.sign(ave15 - ave5[:len(ave15)])!= 0)).reshape(-1) #reshape into one row.\n",
    "    return int(idx[0])"
   ]
  },
  {
   "cell_type": "code",
   "execution_count": 36,
   "metadata": {},
   "outputs": [],
   "source": []
  },
  {
   "cell_type": "code",
   "execution_count": 40,
   "metadata": {},
   "outputs": [
    {
     "data": {
      "text/plain": [
       "54"
      ]
     },
     "execution_count": 40,
     "metadata": {},
     "output_type": "execute_result"
    }
   ],
   "source": [
    "critical_idx(x2,y2)"
   ]
  },
  {
   "cell_type": "code",
   "execution_count": null,
   "metadata": {},
   "outputs": [],
   "source": []
  }
 ],
 "metadata": {
  "kernelspec": {
   "display_name": "Python 3",
   "language": "python",
   "name": "python3"
  },
  "language_info": {
   "codemirror_mode": {
    "name": "ipython",
    "version": 3
   },
   "file_extension": ".py",
   "mimetype": "text/x-python",
   "name": "python",
   "nbconvert_exporter": "python",
   "pygments_lexer": "ipython3",
   "version": "3.6.5"
  }
 },
 "nbformat": 4,
 "nbformat_minor": 2
}
