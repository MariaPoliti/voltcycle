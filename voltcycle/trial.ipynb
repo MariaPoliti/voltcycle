{
 "cells": [
  {
   "cell_type": "code",
<<<<<<< HEAD
   "execution_count": 3,
=======
   "execution_count": 1,
>>>>>>> peakdetection
   "metadata": {},
   "outputs": [],
   "source": [
    "# Import packages\n",
    "import pandas as pd\n",
    "import numpy as np\n",
    "import csv\n",
    "import matplotlib.pyplot as plt\n",
    "import os\n",
    "import warnings\n",
<<<<<<< HEAD
    "import glob\n",
    "import main"
=======
    "import glob"
>>>>>>> peakdetection
   ]
  },
  {
   "cell_type": "code",
<<<<<<< HEAD
   "execution_count": 4,
=======
   "execution_count": 2,
>>>>>>> peakdetection
   "metadata": {},
   "outputs": [],
   "source": [
    "# Check for all the modules that required if not exist then exit with notification.\n",
    "import sys\n",
    "import imp\n",
    "try:\n",
    "    imp.find_module('numpy')\n",
    "    foundnp = True\n",
    "except ImportError:\n",
    "    foundnp = False\n",
    "try:\n",
    "    imp.find_module('matplotlib')\n",
    "    foundplot = True\n",
    "except ImportError:\n",
    "    foundplot = False\n",
    "try:\n",
    "    imp.find_module('pandas')\n",
    "    foundpd = True\n",
    "except ImportError:\n",
    "    foundplot = False\n",
    "if not foundnp:\n",
    "    print(\"Numpy is required. Exiting\")\n",
    "    sys.exit()\n",
    "if not foundplot:\n",
    "    print(\"Matplotlib is required. Exiting\")\n",
    "    sys.exit()\n",
    "if not foundpd:\n",
    "    print(\"Pandas is required. Exiting\")\n",
    "    sys.exit()"
   ]
  },
  {
   "cell_type": "code",
<<<<<<< HEAD
   "execution_count": 5,
=======
   "execution_count": 3,
>>>>>>> peakdetection
   "metadata": {},
   "outputs": [],
   "source": [
    "# This part use classification. All the following code blocks with correct indentation should be able to use the same style. \n",
    "# part of _init_\n",
    "class cv:\n",
    "    _colors = {'red': 'r', 'green': 'g', 'blue': 'b', 'yellow': 'y', 'cyan': 'c', 'magenta': 'm', 'black': 'k', 'white': 'w'}\n",
    "    _linestyles = {' ': ' ', '-': 'solid', '--': 'dashed', '-.': 'dash_dot', ':': 'dotted'}\n",
    "    _markers  = {' ': ' ', '.': '.', '_' : '_', 'o': 'o', '*': '*', '+': '+', 'x': 'x', 'square': 's', 'triangle': '^', 'diamond': 'd'}\n"
   ]
  },
  {
   "cell_type": "code",
<<<<<<< HEAD
   "execution_count": 6,
=======
   "execution_count": 4,
>>>>>>> peakdetection
   "metadata": {},
   "outputs": [
    {
     "name": "stdout",
     "output_type": "stream",
     "text": [
      "Plotting the following:\n",
      "[]\n"
     ]
    }
   ],
   "source": [
    "# Find relevant files in folder\n",
    "path = os.getcwd()\n",
    "extension = ['csv','txt','dat'] # Should include all the possible ones\n",
    "os.chdir(path)\n",
    "result = [i for i in glob.glob('*.{}'.format(extension))]\n",
    "print(\"Plotting the following:\")\n",
    "print(result)\n",
    "#Make x-axis\n",
    "t = np.linspace(325, 1100, 776)"
   ]
  },
  {
   "cell_type": "code",
<<<<<<< HEAD
   "execution_count": 7,
=======
   "execution_count": 8,
>>>>>>> peakdetection
   "metadata": {},
   "outputs": [
    {
     "data": {
      "text/html": [
       "<div>\n",
       "<style scoped>\n",
       "    .dataframe tbody tr th:only-of-type {\n",
       "        vertical-align: middle;\n",
       "    }\n",
       "\n",
       "    .dataframe tbody tr th {\n",
       "        vertical-align: top;\n",
       "    }\n",
       "\n",
       "    .dataframe thead th {\n",
       "        text-align: right;\n",
       "    }\n",
       "</style>\n",
       "<table border=\"1\" class=\"dataframe\">\n",
       "  <thead>\n",
       "    <tr style=\"text-align: right;\">\n",
       "      <th></th>\n",
       "      <th>E /V</th>\n",
       "      <th>I /uA</th>\n",
       "      <th>I /uA.1</th>\n",
       "    </tr>\n",
       "  </thead>\n",
       "  <tbody>\n",
       "    <tr>\n",
       "      <th>0</th>\n",
       "      <td>0.500</td>\n",
       "      <td>0.130</td>\n",
       "      <td>7.040</td>\n",
       "    </tr>\n",
       "    <tr>\n",
       "      <th>1</th>\n",
       "      <td>0.499</td>\n",
       "      <td>0.102</td>\n",
       "      <td>6.998</td>\n",
       "    </tr>\n",
       "    <tr>\n",
       "      <th>2</th>\n",
       "      <td>0.498</td>\n",
       "      <td>0.083</td>\n",
       "      <td>6.964</td>\n",
       "    </tr>\n",
       "    <tr>\n",
       "      <th>3</th>\n",
       "      <td>0.497</td>\n",
       "      <td>0.064</td>\n",
       "      <td>6.932</td>\n",
       "    </tr>\n",
       "    <tr>\n",
       "      <th>4</th>\n",
       "      <td>0.496</td>\n",
       "      <td>0.061</td>\n",
       "      <td>6.908</td>\n",
       "    </tr>\n",
       "  </tbody>\n",
       "</table>\n",
       "</div>"
      ],
      "text/plain": [
       "    E /V  I /uA  I /uA.1\n",
       "0  0.500  0.130    7.040\n",
       "1  0.499  0.102    6.998\n",
       "2  0.498  0.083    6.964\n",
       "3  0.497  0.064    6.932\n",
       "4  0.496  0.061    6.908"
      ]
     },
<<<<<<< HEAD
     "execution_count": 7,
=======
     "execution_count": 8,
>>>>>>> peakdetection
     "metadata": {},
     "output_type": "execute_result"
    }
   ],
   "source": [
<<<<<<< HEAD
    "df=pd.read_csv('../Rawdata/PadraoK3_Gaiola_cell3eletrodos.txt', sep='\\t')\n",
=======
    "df=pd.read_csv('../PadraoK3_Gaiola_cell3eletrodos.txt', sep='\\t')\n",
>>>>>>> peakdetection
    "df.head()"
   ]
  },
  {
   "cell_type": "code",
<<<<<<< HEAD
   "execution_count": 8,
   "metadata": {},
   "outputs": [
    {
     "data": {
      "text/plain": [
       "[<matplotlib.lines.Line2D at 0x1514a6be48>]"
      ]
     },
     "execution_count": 8,
     "metadata": {},
     "output_type": "execute_result"
    },
    {
     "data": {
      "image/png": "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\n",
      "text/plain": [
       "<Figure size 432x288 with 1 Axes>"
      ]
     },
     "metadata": {},
     "output_type": "display_data"
    }
   ],
=======
   "execution_count": null,
   "metadata": {},
   "outputs": [],
>>>>>>> peakdetection
   "source": [
    "%matplotlib inline\n",
    "plt.plot(df['E /V'],df['I /uA.1'])"
   ]
  },
  {
   "cell_type": "code",
<<<<<<< HEAD
   "execution_count": 9,
   "metadata": {},
   "outputs": [],
   "source": [
    "def split(vector):\n",
    "    \"\"\"\n",
    "    This function takes an array and splits it into two half.\n",
    "    \"\"\"\n",
    "    split = int(len(vector)/2)\n",
    "    end = int(len(vector))\n",
    "    vector1 = np.array(vector)[0:split]\n",
    "    vector2 = np.array(vector)[split:end]\n",
=======
   "execution_count": 12,
   "metadata": {},
   "outputs": [],
   "source": [
    "def split_vector(vector):\n",
    "    \n",
    "    half = int(len(vector)/2)\n",
    "    end = int(len(vector))\n",
    "    vector_copy = np.array(vector)\n",
    "    vector1 = vector_copy[0:half]\n",
    "    vector2 = vector_copy[(half+1):end]\n",
>>>>>>> peakdetection
    "    return vector1, vector2"
   ]
  },
  {
   "cell_type": "code",
<<<<<<< HEAD
   "execution_count": 10,
=======
   "execution_count": 13,
   "metadata": {},
   "outputs": [
    {
     "data": {
      "text/plain": [
       "(array([ 7.0400e+00,  6.9980e+00,  6.9640e+00,  6.9320e+00,  6.9080e+00,\n",
       "         6.8710e+00,  6.8410e+00,  6.8120e+00,  6.7850e+00,  6.7560e+00,\n",
       "         6.7280e+00,  6.6980e+00,  6.6690e+00,  6.6420e+00,  6.6130e+00,\n",
       "         6.5840e+00,  6.5550e+00,  6.5300e+00,  6.5050e+00,  6.4780e+00,\n",
       "         6.4520e+00,  6.4250e+00,  6.4010e+00,  6.3770e+00,  6.3510e+00,\n",
       "         6.3230e+00,  6.3020e+00,  6.2760e+00,  6.2490e+00,  6.2270e+00,\n",
       "         6.2090e+00,  6.1950e+00,  6.1760e+00,  6.1530e+00,  6.1290e+00,\n",
       "         6.1070e+00,  6.0850e+00,  6.0570e+00,  6.0310e+00,  6.0100e+00,\n",
       "         5.9950e+00,  5.9790e+00,  5.9580e+00,  5.9350e+00,  5.9130e+00,\n",
       "         5.8960e+00,  5.8740e+00,  5.8550e+00,  5.8340e+00,  5.8130e+00,\n",
       "         5.7940e+00,  5.7730e+00,  5.7510e+00,  5.7280e+00,  5.7060e+00,\n",
       "         5.6840e+00,  5.6640e+00,  5.6410e+00,  5.6200e+00,  5.6000e+00,\n",
       "         5.5820e+00,  5.5650e+00,  5.5460e+00,  5.5280e+00,  5.5090e+00,\n",
       "         5.4910e+00,  5.4720e+00,  5.4500e+00,  5.4310e+00,  5.4100e+00,\n",
       "         5.3920e+00,  5.3740e+00,  5.3540e+00,  5.3340e+00,  5.3160e+00,\n",
       "         5.2970e+00,  5.2780e+00,  5.2580e+00,  5.2400e+00,  5.2210e+00,\n",
       "         5.2020e+00,  5.1820e+00,  5.1630e+00,  5.1440e+00,  5.1250e+00,\n",
       "         5.1030e+00,  5.0830e+00,  5.0660e+00,  5.0490e+00,  5.0320e+00,\n",
       "         5.0140e+00,  4.9990e+00,  4.9840e+00,  4.9670e+00,  4.9500e+00,\n",
       "         4.9320e+00,  4.9180e+00,  4.9020e+00,  4.8860e+00,  4.8720e+00,\n",
       "         4.8620e+00,  4.8520e+00,  4.8360e+00,  4.8150e+00,  4.7960e+00,\n",
       "         4.7760e+00,  4.7570e+00,  4.7340e+00,  4.7130e+00,  4.6950e+00,\n",
       "         4.6820e+00,  4.6680e+00,  4.6480e+00,  4.6300e+00,  4.6130e+00,\n",
       "         4.5950e+00,  4.5750e+00,  4.5540e+00,  4.5330e+00,  4.5130e+00,\n",
       "         4.4970e+00,  4.4770e+00,  4.4570e+00,  4.4370e+00,  4.4180e+00,\n",
       "         4.3950e+00,  4.3720e+00,  4.3510e+00,  4.3300e+00,  4.3080e+00,\n",
       "         4.2880e+00,  4.2660e+00,  4.2430e+00,  4.2200e+00,  4.1990e+00,\n",
       "         4.1760e+00,  4.1530e+00,  4.1300e+00,  4.1070e+00,  4.0810e+00,\n",
       "         4.0550e+00,  4.0290e+00,  4.0010e+00,  3.9770e+00,  3.9530e+00,\n",
       "         3.9290e+00,  3.9050e+00,  3.8820e+00,  3.8580e+00,  3.8310e+00,\n",
       "         3.8000e+00,  3.7680e+00,  3.7370e+00,  3.7040e+00,  3.6690e+00,\n",
       "         3.6360e+00,  3.6020e+00,  3.5680e+00,  3.5340e+00,  3.4970e+00,\n",
       "         3.4600e+00,  3.4260e+00,  3.3900e+00,  3.3510e+00,  3.3110e+00,\n",
       "         3.2720e+00,  3.2360e+00,  3.1930e+00,  3.1410e+00,  3.0930e+00,\n",
       "         3.0550e+00,  3.0120e+00,  2.9640e+00,  2.9150e+00,  2.8650e+00,\n",
       "         2.8180e+00,  2.7690e+00,  2.7080e+00,  2.6430e+00,  2.5830e+00,\n",
       "         2.5280e+00,  2.4640e+00,  2.4000e+00,  2.3340e+00,  2.2670e+00,\n",
       "         2.2000e+00,  2.1260e+00,  2.0480e+00,  1.9690e+00,  1.8880e+00,\n",
       "         1.8050e+00,  1.7190e+00,  1.6340e+00,  1.5420e+00,  1.4450e+00,\n",
       "         1.3470e+00,  1.2440e+00,  1.1390e+00,  1.0290e+00,  9.2000e-01,\n",
       "         8.0600e-01,  6.8900e-01,  5.6900e-01,  4.4100e-01,  3.1200e-01,\n",
       "         1.8100e-01,  4.5000e-02, -9.5000e-02, -2.4200e-01, -3.9000e-01,\n",
       "        -5.4300e-01, -7.0100e-01, -8.6300e-01, -1.0290e+00, -1.2010e+00,\n",
       "        -1.3770e+00, -1.5610e+00, -1.7530e+00, -1.9520e+00, -2.1580e+00,\n",
       "        -2.3700e+00, -2.5890e+00, -2.8140e+00, -3.0450e+00, -3.2800e+00,\n",
       "        -3.5210e+00, -3.7670e+00, -4.0190e+00, -4.2750e+00, -4.5390e+00,\n",
       "        -4.8090e+00, -5.0900e+00, -5.3800e+00, -5.6760e+00, -5.9780e+00,\n",
       "        -6.2870e+00, -6.6010e+00, -6.9330e+00, -7.2720e+00, -7.6100e+00,\n",
       "        -7.9520e+00, -8.3070e+00, -8.6700e+00, -9.0370e+00, -9.4090e+00,\n",
       "        -9.7860e+00, -1.0177e+01, -1.0586e+01, -1.1001e+01, -1.1417e+01,\n",
       "        -1.1844e+01, -1.2284e+01, -1.2732e+01, -1.3185e+01, -1.3642e+01,\n",
       "        -1.4106e+01, -1.4577e+01, -1.5051e+01, -1.5536e+01, -1.6026e+01,\n",
       "        -1.6522e+01, -1.7026e+01, -1.7540e+01, -1.8059e+01, -1.8584e+01,\n",
       "        -1.9115e+01, -1.9650e+01, -2.0191e+01, -2.0737e+01, -2.1287e+01,\n",
       "        -2.1837e+01, -2.2392e+01, -2.2950e+01, -2.3508e+01, -2.4071e+01,\n",
       "        -2.4635e+01, -2.5202e+01, -2.5773e+01, -2.6344e+01, -2.6919e+01,\n",
       "        -2.7490e+01, -2.8061e+01, -2.8626e+01, -2.9190e+01, -2.9753e+01,\n",
       "        -3.0314e+01, -3.0873e+01, -3.1428e+01, -3.1984e+01, -3.2539e+01,\n",
       "        -3.3086e+01, -3.3627e+01, -3.4160e+01, -3.4688e+01, -3.5210e+01,\n",
       "        -3.5728e+01, -3.6237e+01, -3.6736e+01, -3.7232e+01, -3.7715e+01,\n",
       "        -3.8189e+01, -3.8650e+01, -3.9103e+01, -3.9544e+01, -3.9977e+01,\n",
       "        -4.0390e+01, -4.0798e+01, -4.1200e+01, -4.1586e+01, -4.1948e+01,\n",
       "        -4.2295e+01, -4.2632e+01, -4.2960e+01, -4.3270e+01, -4.3566e+01,\n",
       "        -4.3842e+01, -4.4120e+01, -4.4382e+01, -4.4623e+01, -4.4838e+01,\n",
       "        -4.5042e+01, -4.5236e+01, -4.5416e+01, -4.5577e+01, -4.5721e+01,\n",
       "        -4.5853e+01, -4.5976e+01, -4.6078e+01, -4.6168e+01, -4.6238e+01,\n",
       "        -4.6296e+01, -4.6334e+01, -4.6359e+01, -4.6370e+01, -4.6365e+01,\n",
       "        -4.6351e+01, -4.6327e+01, -4.6290e+01, -4.6241e+01, -4.6179e+01,\n",
       "        -4.6107e+01, -4.6017e+01, -4.5922e+01, -4.5818e+01, -4.5701e+01,\n",
       "        -4.5574e+01, -4.5438e+01, -4.5296e+01, -4.5146e+01, -4.4989e+01,\n",
       "        -4.4824e+01, -4.4650e+01, -4.4473e+01, -4.4290e+01, -4.4098e+01,\n",
       "        -4.3901e+01, -4.3698e+01, -4.3493e+01, -4.3284e+01, -4.3074e+01,\n",
       "        -4.2861e+01, -4.2645e+01, -4.2427e+01, -4.2208e+01, -4.1988e+01,\n",
       "        -4.1764e+01, -4.1537e+01, -4.1310e+01, -4.1081e+01, -4.0853e+01,\n",
       "        -4.0623e+01, -4.0393e+01, -4.0163e+01, -3.9933e+01, -3.9701e+01,\n",
       "        -3.9462e+01, -3.9235e+01, -3.9012e+01, -3.8782e+01, -3.8549e+01,\n",
       "        -3.8318e+01, -3.8093e+01, -3.7870e+01, -3.7644e+01, -3.7419e+01,\n",
       "        -3.7197e+01, -3.6989e+01, -3.6781e+01, -3.6568e+01, -3.6355e+01,\n",
       "        -3.6149e+01, -3.5945e+01, -3.5744e+01, -3.5541e+01, -3.5342e+01,\n",
       "        -3.5145e+01, -3.4953e+01, -3.4760e+01, -3.4571e+01, -3.4383e+01,\n",
       "        -3.4198e+01, -3.4012e+01, -3.3830e+01, -3.3649e+01, -3.3470e+01,\n",
       "        -3.3295e+01, -3.3123e+01, -3.2952e+01, -3.2782e+01, -3.2614e+01,\n",
       "        -3.2447e+01, -3.2280e+01, -3.2116e+01, -3.1955e+01, -3.1799e+01,\n",
       "        -3.1642e+01, -3.1486e+01, -3.1337e+01, -3.1187e+01, -3.1042e+01,\n",
       "        -3.0895e+01, -3.0750e+01, -3.0609e+01, -3.0472e+01, -3.0337e+01,\n",
       "        -3.0198e+01, -3.0063e+01, -2.9931e+01, -2.9801e+01, -2.9672e+01,\n",
       "        -2.9543e+01, -2.9413e+01, -2.9289e+01, -2.9167e+01, -2.9045e+01,\n",
       "        -2.8925e+01, -2.8807e+01, -2.8691e+01, -2.8579e+01, -2.8465e+01,\n",
       "        -2.8352e+01, -2.8239e+01, -2.8127e+01, -2.8017e+01, -2.7908e+01,\n",
       "        -2.7795e+01, -2.7695e+01, -2.7597e+01, -2.7493e+01, -2.7385e+01,\n",
       "        -2.7280e+01, -2.7179e+01, -2.7075e+01, -2.6974e+01, -2.6873e+01,\n",
       "        -2.6776e+01, -2.6694e+01, -2.6605e+01, -2.6509e+01, -2.6415e+01,\n",
       "        -2.6324e+01, -2.6237e+01, -2.6145e+01, -2.6053e+01, -2.5968e+01,\n",
       "        -2.5883e+01, -2.5799e+01, -2.5715e+01, -2.5632e+01, -2.5554e+01,\n",
       "        -2.5477e+01, -2.5398e+01, -2.5319e+01, -2.5242e+01, -2.5165e+01,\n",
       "        -2.5087e+01, -2.5011e+01, -2.4936e+01, -2.4862e+01, -2.4789e+01,\n",
       "        -2.4716e+01, -2.4640e+01, -2.4568e+01, -2.4496e+01, -2.4426e+01,\n",
       "        -2.4357e+01, -2.4290e+01, -2.4225e+01, -2.4161e+01, -2.4097e+01,\n",
       "        -2.4035e+01, -2.3971e+01, -2.3906e+01, -2.3844e+01, -2.3783e+01,\n",
       "        -2.3720e+01, -2.3658e+01, -2.3598e+01, -2.3537e+01, -2.3475e+01]),\n",
       " array([-2.3341e+01, -2.3270e+01, -2.3201e+01, -2.3133e+01, -2.3066e+01,\n",
       "        -2.3000e+01, -2.2938e+01, -2.2876e+01, -2.2815e+01, -2.2754e+01,\n",
       "        -2.2692e+01, -2.2633e+01, -2.2578e+01, -2.2515e+01, -2.2454e+01,\n",
       "        -2.2401e+01, -2.2347e+01, -2.2284e+01, -2.2224e+01, -2.2167e+01,\n",
       "        -2.2110e+01, -2.2053e+01, -2.1993e+01, -2.1931e+01, -2.1875e+01,\n",
       "        -2.1823e+01, -2.1767e+01, -2.1707e+01, -2.1656e+01, -2.1602e+01,\n",
       "        -2.1549e+01, -2.1497e+01, -2.1442e+01, -2.1393e+01, -2.1341e+01,\n",
       "        -2.1290e+01, -2.1241e+01, -2.1190e+01, -2.1142e+01, -2.1091e+01,\n",
       "        -2.1038e+01, -2.0988e+01, -2.0935e+01, -2.0885e+01, -2.0835e+01,\n",
       "        -2.0784e+01, -2.0734e+01, -2.0685e+01, -2.0638e+01, -2.0589e+01,\n",
       "        -2.0536e+01, -2.0487e+01, -2.0434e+01, -2.0382e+01, -2.0329e+01,\n",
       "        -2.0274e+01, -2.0222e+01, -2.0171e+01, -2.0120e+01, -2.0068e+01,\n",
       "        -2.0020e+01, -1.9971e+01, -1.9920e+01, -1.9869e+01, -1.9815e+01,\n",
       "        -1.9759e+01, -1.9706e+01, -1.9650e+01, -1.9599e+01, -1.9546e+01,\n",
       "        -1.9492e+01, -1.9438e+01, -1.9383e+01, -1.9326e+01, -1.9266e+01,\n",
       "        -1.9204e+01, -1.9145e+01, -1.9086e+01, -1.9030e+01, -1.8967e+01,\n",
       "        -1.8902e+01, -1.8838e+01, -1.8771e+01, -1.8699e+01, -1.8632e+01,\n",
       "        -1.8570e+01, -1.8504e+01, -1.8430e+01, -1.8357e+01, -1.8284e+01,\n",
       "        -1.8208e+01, -1.8127e+01, -1.8042e+01, -1.7958e+01, -1.7882e+01,\n",
       "        -1.7806e+01, -1.7721e+01, -1.7632e+01, -1.7546e+01, -1.7462e+01,\n",
       "        -1.7374e+01, -1.7278e+01, -1.7184e+01, -1.7090e+01, -1.6993e+01,\n",
       "        -1.6892e+01, -1.6786e+01, -1.6678e+01, -1.6568e+01, -1.6455e+01,\n",
       "        -1.6341e+01, -1.6222e+01, -1.6102e+01, -1.5981e+01, -1.5856e+01,\n",
       "        -1.5727e+01, -1.5593e+01, -1.5458e+01, -1.5316e+01, -1.5172e+01,\n",
       "        -1.5023e+01, -1.4872e+01, -1.4716e+01, -1.4556e+01, -1.4390e+01,\n",
       "        -1.4219e+01, -1.4042e+01, -1.3861e+01, -1.3674e+01, -1.3483e+01,\n",
       "        -1.3284e+01, -1.3085e+01, -1.2881e+01, -1.2671e+01, -1.2450e+01,\n",
       "        -1.2226e+01, -1.2000e+01, -1.1769e+01, -1.1528e+01, -1.1284e+01,\n",
       "        -1.1032e+01, -1.0774e+01, -1.0512e+01, -1.0239e+01, -9.9570e+00,\n",
       "        -9.6720e+00, -9.3790e+00, -9.0780e+00, -8.7690e+00, -8.4540e+00,\n",
       "        -8.1310e+00, -7.8010e+00, -7.4590e+00, -7.1060e+00, -6.7590e+00,\n",
       "        -6.4030e+00, -6.0290e+00, -5.6440e+00, -5.2550e+00, -4.8620e+00,\n",
       "        -4.4600e+00, -4.0510e+00, -3.6290e+00, -3.2040e+00, -2.7820e+00,\n",
       "        -2.3450e+00, -1.8930e+00, -1.4320e+00, -9.7000e-01, -5.0400e-01,\n",
       "        -2.8000e-02,  4.5600e-01,  9.4500e-01,  1.4400e+00,  1.9420e+00,\n",
       "         2.4510e+00,  2.9650e+00,  3.4870e+00,  4.0120e+00,  4.5400e+00,\n",
       "         5.0790e+00,  5.6240e+00,  6.1710e+00,  6.7240e+00,  7.2810e+00,\n",
       "         7.8410e+00,  8.4040e+00,  8.9710e+00,  9.5390e+00,  1.0108e+01,\n",
       "         1.0683e+01,  1.1258e+01,  1.1832e+01,  1.2407e+01,  1.2982e+01,\n",
       "         1.3556e+01,  1.4129e+01,  1.4706e+01,  1.5283e+01,  1.5861e+01,\n",
       "         1.6437e+01,  1.7008e+01,  1.7576e+01,  1.8139e+01,  1.8699e+01,\n",
       "         1.9252e+01,  1.9796e+01,  2.0338e+01,  2.0875e+01,  2.1406e+01,\n",
       "         2.1926e+01,  2.2439e+01,  2.2947e+01,  2.3444e+01,  2.3936e+01,\n",
       "         2.4415e+01,  2.4886e+01,  2.5346e+01,  2.5796e+01,  2.6236e+01,\n",
       "         2.6662e+01,  2.7079e+01,  2.7489e+01,  2.7884e+01,  2.8260e+01,\n",
       "         2.8625e+01,  2.8987e+01,  2.9333e+01,  2.9662e+01,  2.9975e+01,\n",
       "         3.0274e+01,  3.0562e+01,  3.0837e+01,  3.1090e+01,  3.1323e+01,\n",
       "         3.1550e+01,  3.1765e+01,  3.1960e+01,  3.2137e+01,  3.2300e+01,\n",
       "         3.2451e+01,  3.2588e+01,  3.2711e+01,  3.2816e+01,  3.2907e+01,\n",
       "         3.2983e+01,  3.3044e+01,  3.3091e+01,  3.3126e+01,  3.3146e+01,\n",
       "         3.3153e+01,  3.3150e+01,  3.3133e+01,  3.3104e+01,  3.3062e+01,\n",
       "         3.3010e+01,  3.2944e+01,  3.2869e+01,  3.2783e+01,  3.2685e+01,\n",
       "         3.2580e+01,  3.2466e+01,  3.2341e+01,  3.2210e+01,  3.2070e+01,\n",
       "         3.1923e+01,  3.1767e+01,  3.1605e+01,  3.1440e+01,  3.1267e+01,\n",
       "         3.1090e+01,  3.0907e+01,  3.0721e+01,  3.0531e+01,  3.0336e+01,\n",
       "         3.0138e+01,  2.9931e+01,  2.9722e+01,  2.9515e+01,  2.9300e+01,\n",
       "         2.9085e+01,  2.8866e+01,  2.8648e+01,  2.8429e+01,  2.8211e+01,\n",
       "         2.7990e+01,  2.7767e+01,  2.7546e+01,  2.7328e+01,  2.7106e+01,\n",
       "         2.6886e+01,  2.6668e+01,  2.6456e+01,  2.6239e+01,  2.6014e+01,\n",
       "         2.5799e+01,  2.5590e+01,  2.5376e+01,  2.5164e+01,  2.4955e+01,\n",
       "         2.4752e+01,  2.4554e+01,  2.4357e+01,  2.4151e+01,  2.3946e+01,\n",
       "         2.3753e+01,  2.3557e+01,  2.3354e+01,  2.3156e+01,  2.2959e+01,\n",
       "         2.2766e+01,  2.2573e+01,  2.2380e+01,  2.2192e+01,  2.2008e+01,\n",
       "         2.1825e+01,  2.1644e+01,  2.1464e+01,  2.1289e+01,  2.1115e+01,\n",
       "         2.0942e+01,  2.0773e+01,  2.0605e+01,  2.0440e+01,  2.0278e+01,\n",
       "         2.0116e+01,  1.9955e+01,  1.9794e+01,  1.9636e+01,  1.9482e+01,\n",
       "         1.9330e+01,  1.9180e+01,  1.9033e+01,  1.8887e+01,  1.8745e+01,\n",
       "         1.8604e+01,  1.8462e+01,  1.8322e+01,  1.8185e+01,  1.8052e+01,\n",
       "         1.7921e+01,  1.7791e+01,  1.7664e+01,  1.7537e+01,  1.7414e+01,\n",
       "         1.7286e+01,  1.7160e+01,  1.7037e+01,  1.6915e+01,  1.6793e+01,\n",
       "         1.6674e+01,  1.6557e+01,  1.6443e+01,  1.6331e+01,  1.6220e+01,\n",
       "         1.6109e+01,  1.6000e+01,  1.5895e+01,  1.5789e+01,  1.5684e+01,\n",
       "         1.5579e+01,  1.5484e+01,  1.5382e+01,  1.5278e+01,  1.5177e+01,\n",
       "         1.5087e+01,  1.4999e+01,  1.4907e+01,  1.4815e+01,  1.4725e+01,\n",
       "         1.4638e+01,  1.4555e+01,  1.4464e+01,  1.4373e+01,  1.4287e+01,\n",
       "         1.4208e+01,  1.4126e+01,  1.4040e+01,  1.3958e+01,  1.3876e+01,\n",
       "         1.3796e+01,  1.3715e+01,  1.3638e+01,  1.3562e+01,  1.3485e+01,\n",
       "         1.3410e+01,  1.3334e+01,  1.3260e+01,  1.3188e+01,  1.3111e+01,\n",
       "         1.3036e+01,  1.2963e+01,  1.2891e+01,  1.2821e+01,  1.2753e+01,\n",
       "         1.2687e+01,  1.2619e+01,  1.2554e+01,  1.2489e+01,  1.2423e+01,\n",
       "         1.2359e+01,  1.2295e+01,  1.2232e+01,  1.2169e+01,  1.2107e+01,\n",
       "         1.2048e+01,  1.1988e+01,  1.1929e+01,  1.1869e+01,  1.1811e+01,\n",
       "         1.1753e+01,  1.1696e+01,  1.1640e+01,  1.1583e+01,  1.1528e+01,\n",
       "         1.1470e+01,  1.1414e+01,  1.1357e+01,  1.1302e+01,  1.1247e+01,\n",
       "         1.1193e+01,  1.1139e+01,  1.1087e+01,  1.1036e+01,  1.0985e+01,\n",
       "         1.0933e+01,  1.0885e+01,  1.0837e+01,  1.0789e+01,  1.0739e+01,\n",
       "         1.0692e+01,  1.0644e+01,  1.0600e+01,  1.0554e+01,  1.0511e+01,\n",
       "         1.0475e+01,  1.0437e+01,  1.0393e+01,  1.0348e+01,  1.0303e+01,\n",
       "         1.0260e+01,  1.0214e+01,  1.0170e+01,  1.0124e+01,  1.0085e+01,\n",
       "         1.0048e+01,  1.0005e+01,  9.9600e+00,  9.9170e+00,  9.8780e+00,\n",
       "         9.8370e+00,  9.7960e+00,  9.7560e+00,  9.7180e+00,  9.6800e+00,\n",
       "         9.6410e+00,  9.6010e+00,  9.5620e+00,  9.5230e+00,  9.4870e+00,\n",
       "         9.4500e+00,  9.4130e+00,  9.3780e+00,  9.3430e+00,  9.3100e+00,\n",
       "         9.2750e+00,  9.2390e+00,  9.2050e+00,  9.1710e+00,  9.1370e+00,\n",
       "         9.1020e+00,  9.0670e+00,  9.0330e+00,  8.9980e+00,  8.9640e+00,\n",
       "         8.9300e+00,  8.8970e+00,  8.8660e+00,  8.8330e+00,  8.8020e+00,\n",
       "         8.7700e+00,  8.7380e+00,  8.7070e+00,  8.6780e+00,  8.6480e+00,\n",
       "         8.6170e+00,  8.5870e+00,  8.5570e+00,  8.5240e+00,  8.4920e+00,\n",
       "         8.4590e+00,  8.4280e+00,  8.3990e+00,  8.3720e+00,  8.3430e+00,\n",
       "         8.3170e+00,  8.2860e+00,  8.2560e+00,  8.2260e+00]))"
      ]
     },
     "execution_count": 13,
     "metadata": {},
     "output_type": "execute_result"
    }
   ],
   "source": [
    "split_vector(df['I /uA.1'])"
   ]
  },
  {
   "cell_type": "code",
   "execution_count": 14,
>>>>>>> peakdetection
   "metadata": {},
   "outputs": [],
   "source": [
    "import peakutils \n",
    "def peak_detection(data_y):\n",
    "    \"\"\" peak_detection(dataframe['y column'])\n",
<<<<<<< HEAD
    "    This function returns a list of the indecies of the y values of the peaks detected in the dataset.\n",
=======
    "    This function returns a list of the y values of all the values of peaks detected in the dataset.\n",
>>>>>>> peakdetection
    "    The function takes an input of the column containing the y variables in the dataframe.\n",
    "    This column is then split into two arrays, one of the positive and one of the negative values.\n",
    "    This is because cyclic voltammetry delivers negative peaks however the peakutils function work better with positive peaks.\n",
    "    The absolute values of each of these vectors are then imported into the peakutils.indexes \n",
    "    function to determine the significant peak(s) for each array. The value(s) are then saved as a list.\"\"\"\n",
    "    \n",
    "    index_list = []\n",
    "    \n",
<<<<<<< HEAD
    "    y1, y2 = main.split(data_y)\n",
    "    \n",
    "    peak_top = peakutils.indexes(y2, thres=0.07, min_dist=0.001)\n",
    "    peak_bottom = peakutils.indexes(abs(y1), thres=0.07, min_dist=0.001)\n",
=======
    "    y1, y2 = split_vector(data_y)\n",
    "    \n",
    "    peak_top = peakutils.indexes(abs(y1), thres=0.5, min_dist=0.001)\n",
    "    peak_bottom = peakutils.indexes(abs(y2), thres=0.5, min_dist=0.001)\n",
>>>>>>> peakdetection
    "    index_list.append([peak_top[0], peak_bottom[0]])\n",
    "    \n",
    "    return index_list"
   ]
  },
  {
   "cell_type": "code",
<<<<<<< HEAD
   "execution_count": 11,
   "metadata": {},
   "outputs": [],
   "source": [
    "x = df['E /V']\n",
    "y = df['I /uA.1']\n",
    "x1,x2 = split(x)\n",
    "y1,y2 = split(y)"
   ]
  },
  {
   "cell_type": "code",
   "execution_count": 12,
=======
   "execution_count": 15,
>>>>>>> peakdetection
   "metadata": {},
   "outputs": [
    {
     "data": {
      "text/plain": [
<<<<<<< HEAD
       "[[251, 333]]"
      ]
     },
     "execution_count": 12,
=======
       "[[333, 250]]"
      ]
     },
     "execution_count": 15,
>>>>>>> peakdetection
     "metadata": {},
     "output_type": "execute_result"
    }
   ],
   "source": [
<<<<<<< HEAD
    "peak_detection(y)"
=======
    "peak_detection(df['I /uA.1'])"
>>>>>>> peakdetection
   ]
  },
  {
   "cell_type": "code",
<<<<<<< HEAD
   "execution_count": 13,
   "metadata": {},
   "outputs": [
    {
     "data": {
      "text/plain": [
       "[<matplotlib.lines.Line2D at 0x1514b6dd30>]"
      ]
     },
     "execution_count": 13,
     "metadata": {},
     "output_type": "execute_result"
    },
    {
     "data": {
      "image/png": "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\n",
      "text/plain": [
       "<Figure size 432x288 with 1 Axes>"
      ]
     },
     "metadata": {},
     "output_type": "display_data"
    }
   ],
   "source": [
    "plt.plot(x1,y1,color ='red')\n",
    "plt.plot(x2,y2,color = 'blue')\n",
    "plt.plot(x1[251],y1[251],marker='o')\n",
    "plt.plot(x2[333],y2[333],marker='o',color = 'red')"
=======
   "execution_count": 16,
   "metadata": {},
   "outputs": [],
   "source": [
    "def interpolation(data_x, data_y):\n",
    "    \"\"\"interpolation(dataframe['x column'], dataframe['y column'])\n",
    "    This function returns a list of the fitted values of the peals in the dataset.\n",
    "    It calls the peak_detection function and type casts the outputs to numpy ndarrays\n",
    "    (as that is what the peakutils.interpolation function takes in).\n",
    "    The function also typecasts the x and y value columns to numpy ndarrays.\n",
    "    The function then uses the peakutils.interpolation function to enhance the resolution of the peak values.\n",
    "    This gives more precise numbers. The function returns a list.\"\"\"\n",
    "    \n",
    "    x = np.array(data_x)\n",
    "    y = np.array(data_y)\n",
    "\n",
    "    index = peak_detection(data_y)[0]\n",
    "    index = np.asarray(index)\n",
    "\n",
    "    smooth_index = []\n",
    "    smooth = peakutils.interpolate(x, y, ind=index)\n",
    "    smooth_index.append(list(smooth))\n",
    "\n",
    "    return smooth_index"
>>>>>>> peakdetection
   ]
  },
  {
   "cell_type": "code",
<<<<<<< HEAD
   "execution_count": 14,
   "metadata": {},
=======
   "execution_count": 17,
   "metadata": {
    "scrolled": true
   },
>>>>>>> peakdetection
   "outputs": [
    {
     "data": {
      "text/plain": [
<<<<<<< HEAD
       "[[251, 333]]"
      ]
     },
     "execution_count": 14,
=======
       "[[0.1662526114119476, 0.19420600860270518]]"
      ]
     },
     "execution_count": 17,
>>>>>>> peakdetection
     "metadata": {},
     "output_type": "execute_result"
    }
   ],
   "source": [
<<<<<<< HEAD
    "peak_detection(y)"
=======
    "interpolation(df['E /V'],df['I /uA.1'])"
>>>>>>> peakdetection
   ]
  },
  {
   "cell_type": "code",
<<<<<<< HEAD
   "execution_count": 20,
   "metadata": {},
   "outputs": [],
   "source": [
    "def critical_idx(x, y): ## Finds index where data set is no longer linear \n",
    "    \"\"\"\n",
    "    This function takes x and y values callculate the derrivative of x and y, and calculate moving average of 5 and 15 points.\n",
    "    Finds intercepts of different moving average curves and return the indexs of the first intercepts.\n",
    "    \"\"\"\n",
    "    k = np.diff(y)/(np.diff(x)) #calculated slops of x and y\n",
    "\n",
    "    ## Calculate moving average for 5 and 15 points.\n",
    "    ## This two arbitrary number can be tuned to get better fitting.\n",
    "    ave5 = []\n",
    "    ave15 = []\n",
    "    for i in range(len(x)-5):  # The reason to minus 5 is to prevent j from running out of index.\n",
    "        a = 0 \n",
    "        for j in range(0,5):\n",
    "            a = a + k[i+j]\n",
    "        ave5.append(round(a/5, 15)) # keeping 9 desimal points for more accuracy\n",
    "    ave5 = np.asarray(ave5)\n",
    "    for i in range(len(x)-15): \n",
    "        b = 0 \n",
    "        for j in range(0,15):\n",
    "            b = b + k[i+j]\n",
    "        ave15.append(round(b/15, 15))\n",
    "    ave15 = np.asarray(ave15)\n",
    "    ## Find intercepts of different moving average curves\n",
    "    idx = np.argwhere(np.diff(np.sign(ave15 - ave5[:len(ave15)])!= 0)).reshape(-1) #reshape into one row.\n",
    "    print(idx)\n",
    "    return int(idx[0])\n"
   ]
  },
  {
   "cell_type": "code",
   "execution_count": null,
   "metadata": {},
   "outputs": [],
   "source": []
  },
  {
   "cell_type": "code",
   "execution_count": 21,
   "metadata": {},
   "outputs": [
    {
     "name": "stdout",
     "output_type": "stream",
     "text": [
      "[]\n"
     ]
    },
    {
     "ename": "IndexError",
     "evalue": "index 0 is out of bounds for axis 0 with size 0",
     "output_type": "error",
     "traceback": [
      "\u001b[0;31m---------------------------------------------------------------------------\u001b[0m",
      "\u001b[0;31mIndexError\u001b[0m                                Traceback (most recent call last)",
      "\u001b[0;32m<ipython-input-21-d52a6418fc20>\u001b[0m in \u001b[0;36m<module>\u001b[0;34m()\u001b[0m\n\u001b[0;32m----> 1\u001b[0;31m \u001b[0mcritical_idx\u001b[0m\u001b[0;34m(\u001b[0m\u001b[0mx2\u001b[0m\u001b[0;34m,\u001b[0m\u001b[0my2\u001b[0m\u001b[0;34m)\u001b[0m\u001b[0;34m\u001b[0m\u001b[0;34m\u001b[0m\u001b[0m\n\u001b[0m",
      "\u001b[0;32m<ipython-input-20-0de11837c710>\u001b[0m in \u001b[0;36mcritical_idx\u001b[0;34m(x, y)\u001b[0m\n\u001b[1;32m     25\u001b[0m     \u001b[0midx\u001b[0m \u001b[0;34m=\u001b[0m \u001b[0mnp\u001b[0m\u001b[0;34m.\u001b[0m\u001b[0margwhere\u001b[0m\u001b[0;34m(\u001b[0m\u001b[0mnp\u001b[0m\u001b[0;34m.\u001b[0m\u001b[0mdiff\u001b[0m\u001b[0;34m(\u001b[0m\u001b[0mnp\u001b[0m\u001b[0;34m.\u001b[0m\u001b[0msign\u001b[0m\u001b[0;34m(\u001b[0m\u001b[0mave15\u001b[0m \u001b[0;34m-\u001b[0m \u001b[0mave5\u001b[0m\u001b[0;34m[\u001b[0m\u001b[0;34m:\u001b[0m\u001b[0mlen\u001b[0m\u001b[0;34m(\u001b[0m\u001b[0mave15\u001b[0m\u001b[0;34m)\u001b[0m\u001b[0;34m]\u001b[0m\u001b[0;34m)\u001b[0m\u001b[0;34m!=\u001b[0m \u001b[0;36m0\u001b[0m\u001b[0;34m)\u001b[0m\u001b[0;34m)\u001b[0m\u001b[0;34m.\u001b[0m\u001b[0mreshape\u001b[0m\u001b[0;34m(\u001b[0m\u001b[0;34m-\u001b[0m\u001b[0;36m1\u001b[0m\u001b[0;34m)\u001b[0m \u001b[0;31m#reshape into one row.\u001b[0m\u001b[0;34m\u001b[0m\u001b[0;34m\u001b[0m\u001b[0m\n\u001b[1;32m     26\u001b[0m     \u001b[0mprint\u001b[0m\u001b[0;34m(\u001b[0m\u001b[0midx\u001b[0m\u001b[0;34m)\u001b[0m\u001b[0;34m\u001b[0m\u001b[0;34m\u001b[0m\u001b[0m\n\u001b[0;32m---> 27\u001b[0;31m     \u001b[0;32mreturn\u001b[0m \u001b[0mint\u001b[0m\u001b[0;34m(\u001b[0m\u001b[0midx\u001b[0m\u001b[0;34m[\u001b[0m\u001b[0;36m0\u001b[0m\u001b[0;34m]\u001b[0m\u001b[0;34m)\u001b[0m\u001b[0;34m\u001b[0m\u001b[0;34m\u001b[0m\u001b[0m\n\u001b[0m",
      "\u001b[0;31mIndexError\u001b[0m: index 0 is out of bounds for axis 0 with size 0"
     ]
    }
   ],
   "source": [
    "critical_idx(x2,y2)"
   ]
  },
  {
   "cell_type": "code",
   "execution_count": 17,
   "metadata": {},
   "outputs": [
    {
     "name": "stdout",
     "output_type": "stream",
     "text": [
      "../Rawdata/10mM_2,7-AQDS_1M_KOH_25mVs_0.5step_2.txt Opened\n",
      "1\n",
      "2\n"
     ]
    },
    {
     "data": {
      "image/png": "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\n",
      "text/plain": [
       "<Figure size 432x288 with 1 Axes>"
      ]
     },
     "metadata": {},
     "output_type": "display_data"
    }
   ],
   "source": [
    "dict_1,n_cycle = main.read_file('../Rawdata/10mM_2,7-AQDS_1M_KOH_25mVs_0.5step_2.txt')\n",
    "for i in range(n_cycle):\n",
    "        print(i+1)\n",
    "        df = main.data_frame(dict_1, i+1)\n",
    "        plt.plot(df.Potential, df.Current, label = \"Cycle{}\".format(i+1))\n"
=======
   "execution_count": 18,
   "metadata": {},
   "outputs": [],
   "source": [
    "import file_read"
>>>>>>> peakdetection
   ]
  },
  {
   "cell_type": "code",
<<<<<<< HEAD
   "execution_count": 18,
   "metadata": {},
   "outputs": [],
   "source": [
    "df = main.data_frame(dict_1,1)\n",
    "x = df['Potential']\n",
    "y = df['Current']\n",
    "x1,x2 = main.split(x)\n",
    "y1,y2 = main.split(y)"
=======
   "execution_count": 19,
   "metadata": {},
   "outputs": [],
   "source": [
    "def wrap_peaks(data,n_cycle):\n",
    "    \"\"\"wrap_peaks(dataframe, array of cycle #s)\n",
    "    This function returns a dictonary of peak indecies corresponding to a specific cycle number,\n",
    "    where the key is the cycle number and the value is the peak indecies.\n",
    "    This function takes in the dataframe and a single numeric value or array\n",
    "    of numeric values corresponding to the cycle number(s) of interest.\n",
    "    The function utilizes a for loop, in the range of the cycle number array,\n",
    "    to call the interpolation function to compute the peak indecies at each cycle number or interest.\"\"\"\n",
    "    \n",
    "    cycle_values = {}\n",
    "    # key in cycle number, value is list of peak indexes from interpolation fxn\n",
    "    \n",
    "    for i in n_cycle:\n",
    "        index_values = interpolation(data.iloc[0][i], data.iloc[2][i])\n",
    "        cycle_values[i] = index_values\n",
    "        \n",
    "    return cycle_values"
>>>>>>> peakdetection
   ]
  },
  {
   "cell_type": "code",
<<<<<<< HEAD
   "execution_count": 19,
   "metadata": {},
   "outputs": [
    {
     "name": "stdout",
     "output_type": "stream",
     "text": [
      "[]\n"
     ]
    },
    {
     "ename": "IndexError",
     "evalue": "index 0 is out of bounds for axis 0 with size 0",
     "output_type": "error",
     "traceback": [
      "\u001b[0;31m---------------------------------------------------------------------------\u001b[0m",
      "\u001b[0;31mIndexError\u001b[0m                                Traceback (most recent call last)",
      "\u001b[0;32m<ipython-input-19-d52a6418fc20>\u001b[0m in \u001b[0;36m<module>\u001b[0;34m()\u001b[0m\n\u001b[0;32m----> 1\u001b[0;31m \u001b[0mcritical_idx\u001b[0m\u001b[0;34m(\u001b[0m\u001b[0mx2\u001b[0m\u001b[0;34m,\u001b[0m\u001b[0my2\u001b[0m\u001b[0;34m)\u001b[0m\u001b[0;34m\u001b[0m\u001b[0;34m\u001b[0m\u001b[0m\n\u001b[0m",
      "\u001b[0;32m<ipython-input-15-1fecefe13da9>\u001b[0m in \u001b[0;36mcritical_idx\u001b[0;34m(x, y)\u001b[0m\n\u001b[1;32m     25\u001b[0m     \u001b[0midx\u001b[0m \u001b[0;34m=\u001b[0m \u001b[0mnp\u001b[0m\u001b[0;34m.\u001b[0m\u001b[0margwhere\u001b[0m\u001b[0;34m(\u001b[0m\u001b[0mnp\u001b[0m\u001b[0;34m.\u001b[0m\u001b[0mdiff\u001b[0m\u001b[0;34m(\u001b[0m\u001b[0mnp\u001b[0m\u001b[0;34m.\u001b[0m\u001b[0msign\u001b[0m\u001b[0;34m(\u001b[0m\u001b[0mave15\u001b[0m \u001b[0;34m-\u001b[0m \u001b[0mave5\u001b[0m\u001b[0;34m[\u001b[0m\u001b[0;34m:\u001b[0m\u001b[0mlen\u001b[0m\u001b[0;34m(\u001b[0m\u001b[0mave15\u001b[0m\u001b[0;34m)\u001b[0m\u001b[0;34m]\u001b[0m\u001b[0;34m)\u001b[0m\u001b[0;34m!=\u001b[0m \u001b[0;36m0\u001b[0m\u001b[0;34m)\u001b[0m\u001b[0;34m)\u001b[0m\u001b[0;34m.\u001b[0m\u001b[0mreshape\u001b[0m\u001b[0;34m(\u001b[0m\u001b[0;34m-\u001b[0m\u001b[0;36m1\u001b[0m\u001b[0;34m)\u001b[0m \u001b[0;31m#reshape into one row.\u001b[0m\u001b[0;34m\u001b[0m\u001b[0;34m\u001b[0m\u001b[0m\n\u001b[1;32m     26\u001b[0m     \u001b[0mprint\u001b[0m\u001b[0;34m(\u001b[0m\u001b[0midx\u001b[0m\u001b[0;34m)\u001b[0m\u001b[0;34m\u001b[0m\u001b[0;34m\u001b[0m\u001b[0m\n\u001b[0;32m---> 27\u001b[0;31m     \u001b[0;32mreturn\u001b[0m \u001b[0mint\u001b[0m\u001b[0;34m(\u001b[0m\u001b[0midx\u001b[0m\u001b[0;34m[\u001b[0m\u001b[0;36m0\u001b[0m\u001b[0;34m]\u001b[0m\u001b[0;34m)\u001b[0m\u001b[0;34m\u001b[0m\u001b[0;34m\u001b[0m\u001b[0m\n\u001b[0m",
      "\u001b[0;31mIndexError\u001b[0m: index 0 is out of bounds for axis 0 with size 0"
=======
   "execution_count": 20,
   "metadata": {},
   "outputs": [
    {
     "ename": "SyntaxError",
     "evalue": "invalid syntax (<ipython-input-20-11548cd84621>, line 1)",
     "output_type": "error",
     "traceback": [
      "\u001b[1;36m  File \u001b[1;32m\"<ipython-input-20-11548cd84621>\"\u001b[1;36m, line \u001b[1;32m1\u001b[0m\n\u001b[1;33m    cycle_n =\u001b[0m\n\u001b[1;37m              ^\u001b[0m\n\u001b[1;31mSyntaxError\u001b[0m\u001b[1;31m:\u001b[0m invalid syntax\n"
>>>>>>> peakdetection
     ]
    }
   ],
   "source": [
<<<<<<< HEAD
    "critical_idx(x2,y2)"
   ]
  },
  {
   "cell_type": "code",
   "execution_count": null,
   "metadata": {},
   "outputs": [],
   "source": []
=======
    "n_cycle = \n",
    "wrap_peaks(df, n_cycle)"
   ]
>>>>>>> peakdetection
  }
 ],
 "metadata": {
  "kernelspec": {
   "display_name": "Python 3",
   "language": "python",
   "name": "python3"
  },
  "language_info": {
   "codemirror_mode": {
    "name": "ipython",
    "version": 3
   },
   "file_extension": ".py",
   "mimetype": "text/x-python",
   "name": "python",
   "nbconvert_exporter": "python",
   "pygments_lexer": "ipython3",
<<<<<<< HEAD
   "version": "3.6.8"
=======
   "version": "3.7.0"
>>>>>>> peakdetection
  }
 },
 "nbformat": 4,
 "nbformat_minor": 2
}
