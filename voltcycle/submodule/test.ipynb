{
 "cells": [
  {
   "cell_type": "code",
   "execution_count": 1,
   "metadata": {},
   "outputs": [],
   "source": [
    "import file_read\n",
    "import baseline"
   ]
  },
  {
   "cell_type": "code",
   "execution_count": 2,
   "metadata": {},
   "outputs": [],
   "source": [
    "import numpy as np\n",
    "import matplotlib.pyplot as plt\n",
    "import peakutils\n",
    "import pandas as pd\n",
    "from matplotlib import rcParams"
   ]
  },
  {
   "cell_type": "code",
   "execution_count": 4,
   "metadata": {
    "scrolled": false
   },
   "outputs": [
    {
     "name": "stdout",
     "output_type": "stream",
     "text": [
      "../../data/10mM_2,7-AQDS_1M_KOH_25mVs_0.5step_2.txt Opened\n"
     ]
    },
    {
     "data": {
      "text/plain": [
       "[<matplotlib.lines.Line2D at 0x10f22b860>]"
      ]
     },
     "execution_count": 4,
     "metadata": {},
     "output_type": "execute_result"
    },
    {
     "data": {
      "image/png": "[encoded data removed]",
      "text/plain": [
       "<Figure size 432x288 with 1 Axes>"
      ]
     },
     "metadata": {},
     "output_type": "display_data"
    }
   ],
   "source": [
    "dict_1,n_cycle = file_read.read_file('../../data/10mM_2,7-AQDS_1M_KOH_25mVs_0.5step_2.txt')\n",
    "df = file_read.data_frame(dict_1, 1)\n",
    "plt.plot(df.Potential, df.Current, label = \"Cycle{}\".format(1))"
   ]
  },
  {
   "cell_type": "code",
   "execution_count": 5,
   "metadata": {},
   "outputs": [
    {
     "data": {
      "text/plain": [
       "pandas.core.series.Series"
      ]
     },
     "execution_count": 5,
     "metadata": {},
     "output_type": "execute_result"
    }
   ],
   "source": [
    "type(df.Potential)"
   ]
  },
  {
   "cell_type": "code",
   "execution_count": 6,
   "metadata": {},
   "outputs": [
    {
     "data": {
      "text/plain": [
       "1400"
      ]
     },
     "execution_count": 6,
     "metadata": {},
     "output_type": "execute_result"
    }
   ],
   "source": [
    "a,b = baseline.split(df.Potential)\n",
    "len(a)"
   ]
  },
  {
   "cell_type": "code",
   "execution_count": 37,
   "metadata": {},
   "outputs": [],
   "source": [
    "def test_split():\n",
    "    \"\"\"\n",
    "    This function tests the split function.\n",
    "    The output of the function has to be np.array.\n",
    "    Split function splits the length of input vector\n",
    "    in two. So, len of output should equal to half len\n",
    "    of input.\n",
    "    \"\"\"\n",
    "    dict_1,n_cycle = file_read.read_file('../../data/10mM_2,7-AQDS_1M_KOH_25mVs_0.5step_2.txt')\n",
    "    df = file_read.data_frame(dict_1, 1)\n",
    "    x = df.Potential\n",
    "    a,b = baseline.split(x)\n",
    "    assert type(a) == np.ndarray, \"The output type is incorrect.\"\n",
    "    assert type(b) == np.ndarray, \"The output type is incorrect.\"\n",
    "    #assert len(a)  int(len(x)/2), \"The output should be \"\n",
    "    np.testing.assert_almost_equal(len(a),(len(x)/2), decimal=0), \"Output length is incorrect\"\n",
    "    np.testing.assert_almost_equal(len(b),(len(x)/2), decimal=0), \"Output length is incorrect\"\n",
    "    return \"Test of split function passed!\""
   ]
  },
  {
   "cell_type": "code",
   "execution_count": 38,
   "metadata": {},
   "outputs": [
    {
     "name": "stdout",
     "output_type": "stream",
     "text": [
      "../../data/10mM_2,7-AQDS_1M_KOH_25mVs_0.5step_2.txt Opened\n"
     ]
    },
    {
     "data": {
      "text/plain": [
       "'Test of split function passed!'"
      ]
     },
     "execution_count": 38,
     "metadata": {},
     "output_type": "execute_result"
    }
   ],
   "source": [
    "test_split()"
   ]
  },
  {
   "cell_type": "code",
   "execution_count": 27,
   "metadata": {},
   "outputs": [],
   "source": [
    "def test_critical_idx():\n",
    "    \"\"\"\n",
    "    Critical_idx returns idx of the index of the intercepts of different moving average curves.\n",
    "    Test the output if it is a single index.\n",
    "    Test if the output is integer.\n",
    "    Test if the index exist in original input.\n",
    "    \"\"\"\n",
    "    dict_1,n_cycle = file_read.read_file('../../data/10mM_2,7-AQDS_1M_KOH_25mVs_0.5step_2.txt')\n",
    "    df = file_read.data_frame(dict_1, 1)\n",
    "    x1,x2 = baseline.split(df.Potential)\n",
    "    y1,y2 = baseline.split(df.Current)\n",
    "    idx = baseline.critical_idx(x1,y1)\n",
    "    assert type(idx) == np.int64, (\"Output should be integer, but\"\n",
    "                                   \"Function is returning {}\".format(type(idx)))\n",
    "    assert idx.shape == (), \"This function should return single idx\"\n",
    "    assert 0 < idx <len(x1), \"Output index is out of order\"\n",
    "    return \"Test of critical_idx function passed!\""
   ]
  },
  {
   "cell_type": "code",
   "execution_count": 28,
   "metadata": {},
   "outputs": [
    {
     "name": "stdout",
     "output_type": "stream",
     "text": [
      "../../data/10mM_2,7-AQDS_1M_KOH_25mVs_0.5step_2.txt Opened\n"
     ]
    },
    {
     "data": {
      "text/plain": [
       "'Test of critical_idx function passed!'"
      ]
     },
     "execution_count": 28,
     "metadata": {},
     "output_type": "execute_result"
    }
   ],
   "source": [
    "test_critical_idx()"
   ]
  },
  {
   "cell_type": "code",
   "execution_count": 48,
   "metadata": {},
   "outputs": [],
   "source": [
    "def test_sum_mean():\n",
    "    \"\"\"\n",
    "    Target function returns the mean and sum of the given vector.\n",
    "    Expect output to be a list, with length 2.\n",
    "    Can also test if the mean is correctly calculated.\n",
    "    \"\"\"\n",
    "    dict_1,n_cycle = file_read.read_file('../../data/10mM_2,7-AQDS_1M_KOH_25mVs_0.5step_2.txt')\n",
    "    df = file_read.data_frame(dict_1, 1)\n",
    "    x1,x2 = baseline.split(df.Potential)\n",
    "    y1,y2 = baseline.split(df.Current)\n",
    "    a = baseline.sum_mean(x1)\n",
    "    assert type(a) == list, (\"Output should be list object,\"\n",
    "                                                \" but fuction is returning{}\".format(type(a)))\n",
    "    assert len(a) == 2, (\"length of output should be 2,\"\n",
    "                        \"but, function is returning a list with length{}\".format(len(a)))\n",
    "    np.testing.assert_almost_equal(a[1],np.mean(x1), decimal=3), \"Mean is calculated incorrectly\"\n",
    "    return \"Test of sum_mean function passed!\""
   ]
  },
  {
   "cell_type": "code",
   "execution_count": 49,
   "metadata": {
    "scrolled": true
   },
   "outputs": [
    {
     "name": "stdout",
     "output_type": "stream",
     "text": [
      "../../data/10mM_2,7-AQDS_1M_KOH_25mVs_0.5step_2.txt Opened\n"
     ]
    },
    {
     "data": {
      "text/plain": [
       "'Test of sum_mean function passed!'"
      ]
     },
     "execution_count": 49,
     "metadata": {},
     "output_type": "execute_result"
    }
   ],
   "source": [
    "test_sum_mean()"
   ]
  },
  {
   "cell_type": "code",
   "execution_count": null,
   "metadata": {},
   "outputs": [],
   "source": []
  },
  {
   "cell_type": "code",
   "execution_count": 47,
   "metadata": {},
   "outputs": [
    {
     "data": {
      "text/plain": [
       "-0.4497823557142856"
      ]
     },
     "execution_count": 47,
     "metadata": {},
     "output_type": "execute_result"
    }
   ],
   "source": [
    "x1,x2 = baseline.split(df.Potential)\n",
    "y1,y2 = baseline.split(df.Current)\n",
    "idx = baseline.critical_idx(x1,y1)\n",
    "a = baseline.sum_mean(x1)\n",
    "np.mean(x1)\n",
    "a[1]"
   ]
  },
  {
   "cell_type": "code",
   "execution_count": null,
   "metadata": {},
   "outputs": [],
   "source": [
    "if x.shape[0] != y.shape[0]:\n",
    "    raise ValueError(\"x and y must have same first dimension, but \"\n",
    "                    \"have shapes {} and {}\".format(x.shape, y.shape))"
   ]
  },
  {
   "cell_type": "code",
   "execution_count": null,
   "metadata": {},
   "outputs": [],
   "source": []
  },
  {
   "cell_type": "code",
   "execution_count": null,
   "metadata": {},
   "outputs": [],
   "source": []
  },
  {
   "cell_type": "code",
   "execution_count": null,
   "metadata": {},
   "outputs": [],
   "source": []
  },
  {
   "cell_type": "code",
   "execution_count": null,
   "metadata": {},
   "outputs": [],
   "source": []
  },
  {
   "cell_type": "code",
   "execution_count": null,
   "metadata": {},
   "outputs": [],
   "source": []
  }
 ],
 "metadata": {
  "kernelspec": {
   "display_name": "Python 3",
   "language": "python",
   "name": "python3"
  },
  "language_info": {
   "codemirror_mode": {
    "name": "ipython",
    "version": 3
   },
   "file_extension": ".py",
   "mimetype": "text/x-python",
   "name": "python",
   "nbconvert_exporter": "python",
   "pygments_lexer": "ipython3",
   "version": "3.6.8"
  }
 },
 "nbformat": 4,
 "nbformat_minor": 2
}
