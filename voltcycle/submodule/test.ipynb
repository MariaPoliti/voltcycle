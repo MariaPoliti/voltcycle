{
 "cells": [
  {
   "cell_type": "code",
   "execution_count": 1,
   "metadata": {},
   "outputs": [],
   "source": [
    "import pandas as pd\n",
    "import numpy as np\n",
    "import csv\n",
    "import matplotlib.pyplot as plt\n",
    "import warnings\n",
    "import matplotlib.cbook"
   ]
  },
  {
   "cell_type": "code",
   "execution_count": 2,
   "metadata": {},
   "outputs": [],
   "source": [
    "def split(vector):\n",
    "    \"\"\"\n",
    "    This function takes an array and splits it into equal two half.\n",
    "    ----------\n",
    "    Parameters\n",
    "    ----------\n",
    "    vector : Can be in any form of that can be turned into numpy array.\n",
    "    Normally, for the use of this function, it expects pandas DataFrame column.\n",
    "    For example, df['potentials'] could be input as the column of x data.\n",
    "    -------\n",
    "    Returns\n",
    "    -------\n",
    "    This function returns two equally splited vector. \n",
    "    The output then can be used to ease the implementation of peak detection and baseline finding.\n",
    "    \"\"\"\n",
    "    assert type(vector) == np.ndarray, \"Input of the function should be numpy array\"\n",
    "    split = int(len(vector)/2)\n",
    "    end = int(len(vector))\n",
    "    vector1 = np.array(vector)[0:split]\n",
    "    vector2 = np.array(vector)[split:end]\n",
    "    return vector1, vector2"
   ]
  },
  {
   "cell_type": "code",
   "execution_count": null,
   "metadata": {},
   "outputs": [],
   "source": [
    "def test_split():\n",
    "    assert"
   ]
  }
 ],
 "metadata": {
  "kernelspec": {
   "display_name": "Python 3",
   "language": "python",
   "name": "python3"
  },
  "language_info": {
   "codemirror_mode": {
    "name": "ipython",
    "version": 3
   },
   "file_extension": ".py",
   "mimetype": "text/x-python",
   "name": "python",
   "nbconvert_exporter": "python",
   "pygments_lexer": "ipython3",
   "version": "3.6.8"
  }
 },
 "nbformat": 4,
 "nbformat_minor": 2
}
