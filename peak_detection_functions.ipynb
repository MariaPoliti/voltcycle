{
 "cells": [
  {
   "cell_type": "code",
   "execution_count": 6,
   "metadata": {},
   "outputs": [],
   "source": [
    "import pandas as pd\n",
    "import numpy as np\n",
    "import peakutils \n",
    "from peakutils.plot import plot as pplot\n",
    "from matplotlib import pyplot\n",
    "%matplotlib inline"
   ]
  },
  {
   "cell_type": "code",
   "execution_count": 5,
   "metadata": {},
   "outputs": [],
   "source": [
    "def peak_detection(data_x, data_y, n):\n",
    "    index_list = []\n",
    "    \n",
    "    for i in range(n):\n",
    "        peak_index = peakutils.peak.indexes(data_y, thres=0.5, min_dist=0.001)\n",
    "        #print(indexes)\n",
    "        print(x[peak_index], y[peak_index])\n",
    "        index_list.append(peak_index)\n",
    "    \n",
    "    return index_list "
   ]
  },
  {
   "cell_type": "code",
   "execution_count": 3,
   "metadata": {},
   "outputs": [],
   "source": [
    "#peak_detection()\n",
    "   x = data['potential']\n",
    "    y = data['current']"
   ]
  },
  {
   "cell_type": "code",
   "execution_count": 4,
   "metadata": {},
   "outputs": [],
   "source": [
    "def interpolation(data_x, data_y, n, index_list):\n",
    "    \n",
    "    smooth = peakutils.peak.interpolate(data_x, data_y, ind=index_list)\n",
    "    \n",
    "    return smooth"
   ]
  },
  {
   "cell_type": "code",
   "execution_count": null,
   "metadata": {},
   "outputs": [],
   "source": [
    "#interpolation()"
   ]
  },
  {
   "cell_type": "code",
   "execution_count": null,
   "metadata": {},
   "outputs": [],
   "source": [
    "def plotting(data_x, data_y, n, index_list):\n",
    "    \n",
    "    peak_detection(data_x, data_y, n)\n",
    "    interplolation(data_x, data_y, n, index_list)\n",
    "    \n",
    "    plt.figure(figsize(10,6))\n",
    "    plt.pplot(data_x, data_y, lw=2, color='thistle')\n",
    "    plt.pplot(x[smoot], y[smooth], marker='o', ms=3, color='rebeccapurple')\n",
    "    plt.xlabel('Voltage')\n",
    "    plt.ylabel('Current')\n",
    "    plt.title('Plot for Cycle '+str(n))\n",
    "    plt.show()"
   ]
  }
 ],
 "metadata": {
  "kernelspec": {
   "display_name": "Python 3",
   "language": "python",
   "name": "python3"
  },
  "language_info": {
   "codemirror_mode": {
    "name": "ipython",
    "version": 3
   },
   "file_extension": ".py",
   "mimetype": "text/x-python",
   "name": "python",
   "nbconvert_exporter": "python",
   "pygments_lexer": "ipython3",
   "version": "3.7.0"
  }
 },
 "nbformat": 4,
 "nbformat_minor": 2
}
