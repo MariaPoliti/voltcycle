{
 "cells": [
  {
   "cell_type": "code",
   "execution_count": 6,
   "metadata": {},
   "outputs": [],
   "source": [
    "import pandas as pd\n",
    "import numpy as np\n",
    "import peakutils \n",
    "from peakutils.plot import plot as pplot\n",
    "from matplotlib import pyplot\n",
    "%matplotlib inline"
   ]
  },
  {
   "cell_type": "code",
   "execution_count": null,
   "metadata": {},
   "outputs": [],
   "source": [
    "def split_vector(vector):\n",
    "    \n",
    "    half = int(len(vector)/2)\n",
    "    end = int(len(vector))\n",
    "    vector_copy = np.array(vector)\n",
    "    vector1 = vector_copy[0:half]\n",
    "    vector2 = vector_copy[(half+1):end]\n",
    "    return vector1, vector2"
   ]
  },
  {
   "cell_type": "code",
   "execution_count": 1,
   "metadata": {},
   "outputs": [],
   "source": [
    "import peakutils \n",
    "def peak_detection(data_y):\n",
    "    \"\"\" peak_detection(dataframe['y column'])\n",
    "    This function returns a list of the y values of all the values of peaks detected in the dataset.\n",
    "    The function takes an input of the column containing the y variables in the dataframe.\n",
    "    This column is then split into two arrays, one of the positive and one of the negative values.\n",
    "    This is because cyclic voltammetry delivers negative peaks however the peakutils function work better with positive peaks.\n",
    "    The absolute values of each of these vectors are then imported into the peakutils.indexes \n",
    "    function to determine the significant peak(s) for each array. The value(s) are then saved as a list.\"\"\"\n",
    "    \n",
    "    index_list = []\n",
    "    \n",
    "    y1, y2 = split_vector(data_y)\n",
    "    \n",
    "    peak_top = peakutils.indexes(abs(y1), thres=0.5, min_dist=0.001)\n",
    "    peak_bottom = peakutils.indexes(abs(y2), thres=0.5, min_dist=0.001)\n",
    "    index_list.append([peak_top[0], peak_bottom[0]])\n",
    "    \n",
    "    return index_list"
   ]
  },
  {
   "cell_type": "code",
   "execution_count": 3,
   "metadata": {},
   "outputs": [],
   "source": [
    "def interpolation(data_x, data_y):\n",
    "    \"\"\"interpolation(dataframe['x column'], dataframe['y column'])\n",
    "    This function returns a list of the fitted values of the peals in the dataset.\n",
    "    It calls the peak_detection function and type casts the outputs to numpy ndarrays\n",
    "    (as that is what the peakutils.interpolation function takes in).\n",
    "    The function also typecasts the x and y value columns to numpy ndarrays.\n",
    "    The function then uses the peakutils.interpolation function to enhance the resolution of the peak values.\n",
    "    This gives more precise numbers. The function returns a list.\"\"\"\n",
    "    \n",
    "    x = np.array(data_x)\n",
    "    y = np.array(data_y)\n",
    "\n",
    "    index = peak_detection(data_y)[0]\n",
    "    index = np.asarray(index)\n",
    "\n",
    "    smooth_index = []\n",
    "    smooth = peakutils.interpolate(x, y, ind=index)\n",
    "    smooth_index.append(list(smooth))\n",
    "\n",
    "    return smooth_index"
   ]
  },
  {
   "cell_type": "code",
   "execution_count": null,
   "metadata": {},
   "outputs": [],
   "source": [
    "def wrap_peaks(data, cycle_n):\n",
    "    \"\"\"wrap_peaks(dataframe, array of cycle #s)\n",
    "    This function returns a dictonary of peak indecies corresponding to a specific cycle number,\n",
    "    where the key is the cycle number and the value is the peak indecies.\n",
    "    This function takes in the dataframe and a single numeric value or array\n",
    "    of numeric values corresponding to the cycle number(s) of interest.\n",
    "    The function utilizes a for loop, in the range of the cycle number array,\n",
    "    to call the interpolation function to compute the peak indecies at each cycle number or interest.\"\"\"\n",
    "    \n",
    "    cycle_values = {}\n",
    "    # key in cycle number, value is list of peak indexes from interpolation fxn\n",
    "    \n",
    "    for i in range(n_cycle):\n",
    "        index_values = interpolation(data_x[i], data_y[i])\n",
    "        cycle_values[i] = index_values\n",
    "        \n",
    "    return cycle_values"
   ]
  }
 ],
 "metadata": {
  "kernelspec": {
   "display_name": "Python 3",
   "language": "python",
   "name": "python3"
  },
  "language_info": {
   "codemirror_mode": {
    "name": "ipython",
    "version": 3
   },
   "file_extension": ".py",
   "mimetype": "text/x-python",
   "name": "python",
   "nbconvert_exporter": "python",
   "pygments_lexer": "ipython3",
   "version": "3.7.1"
  }
 },
 "nbformat": 4,
 "nbformat_minor": 2
}
